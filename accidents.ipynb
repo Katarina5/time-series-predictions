{
 "cells": [
  {
   "cell_type": "code",
   "execution_count": 1,
   "metadata": {},
   "outputs": [],
   "source": [
    "import pandas as pd\n",
    "import numpy as np\n",
    "import matplotlib.pyplot as plt\n",
    "import glob\n",
    "from statsmodels.tsa.arima.model import ARIMA"
   ]
  },
  {
   "cell_type": "code",
   "execution_count": null,
   "metadata": {},
   "outputs": [],
   "source": []
  },
  {
   "cell_type": "code",
   "execution_count": 2,
   "metadata": {},
   "outputs": [],
   "source": [
    "column_names = [\"identification\", \"ground_communication_type\", \"ground_communication_number\", \"day_month_year\", \n",
    "                \"weekday\", \"time\", \"accident_type\", \"type_of_collision_of_vehicles\", \"type_of_obstacle\", \n",
    "                \"life_consequences\", \"culprits_of_accident\", \"alcohol_in_culprit\", \"main_cause_of_accident\", \n",
    "                \"number_of_persons_died\", \"number_of_seriously_injured\", \"number_of_lightly_injured\", \n",
    "                \"total_material_damage\", \"type_of_road_surface\", \"condition_of_road_surface\", \n",
    "                \"condition_of_communication\", \"wind_condition\", \"visibility\", \"p20\", \"p21\", \"p22\", \"p23\", \"p24\", \n",
    "                \"p27\", \"p28\", \"p34\", \"p35\", \"p39\", \"p44\", \"p45a\", \"p47\", \"p48a\", \"p49\", \"p50a\", \"p50b\", \"p51\", \n",
    "                \"p52\", \"p53\", \"p55a\", \"p57\", \"p58\", \"a\", \"b\", \"d\", \"e\", \"f\", \"g\", \"h\", \"i\", \"j\", \"k\", \"l\", \"n\", \n",
    "                \"o\", \"p\", \"q\", \"r\", \"s\", \"t\", \"p5a\"]\n",
    "df_list = []\n",
    "\n",
    "filepaths = ['./data-nehody/data_GIS_12-' + str(y) for y in range(2016, 2023)]\n",
    "\n",
    "for path in filepaths:\n",
    "    csv_files = glob.glob(path + \"/*.csv\")\n",
    "    dfs_in_file = [pd.read_csv(file, sep=\";\", encoding='ANSI', header=None, low_memory=False) for file in csv_files]\n",
    "    df_list.append(pd.concat(dfs_in_file, axis=0, ignore_index=True))\n",
    "\n",
    "accidents_df = pd.concat(df_list, axis=0, ignore_index=True)\n",
    "accidents_df.columns = column_names\n",
    "\n",
    "accidents_df.loc[accidents_df.p47=='XX', 'p47'] = np.nan\n",
    "\n",
    "accidents_df.loc[accidents_df.time>2400, 'time'] = 0\n",
    "accidents_df.loc[accidents_df.time%100>=60, 'time'] = 0\n",
    "accidents_df['time'] = accidents_df['time'].map(str).str.pad(4, fillchar='0').map(lambda t: t[:2] + ':' + t[2:])\n",
    "accidents_df['date'] = pd.to_datetime(accidents_df['day_month_year'] + ' ' + accidents_df['time'])"
   ]
  },
  {
   "cell_type": "code",
   "execution_count": 3,
   "metadata": {},
   "outputs": [
    {
     "data": {
      "text/html": [
       "<div>\n",
       "<style scoped>\n",
       "    .dataframe tbody tr th:only-of-type {\n",
       "        vertical-align: middle;\n",
       "    }\n",
       "\n",
       "    .dataframe tbody tr th {\n",
       "        vertical-align: top;\n",
       "    }\n",
       "\n",
       "    .dataframe thead th {\n",
       "        text-align: right;\n",
       "    }\n",
       "</style>\n",
       "<table border=\"1\" class=\"dataframe\">\n",
       "  <thead>\n",
       "    <tr style=\"text-align: right;\">\n",
       "      <th></th>\n",
       "      <th>identification</th>\n",
       "      <th>ground_communication_type</th>\n",
       "      <th>ground_communication_number</th>\n",
       "      <th>day_month_year</th>\n",
       "      <th>weekday</th>\n",
       "      <th>time</th>\n",
       "      <th>accident_type</th>\n",
       "      <th>type_of_collision_of_vehicles</th>\n",
       "      <th>type_of_obstacle</th>\n",
       "      <th>life_consequences</th>\n",
       "      <th>...</th>\n",
       "      <th>l</th>\n",
       "      <th>n</th>\n",
       "      <th>o</th>\n",
       "      <th>p</th>\n",
       "      <th>q</th>\n",
       "      <th>r</th>\n",
       "      <th>s</th>\n",
       "      <th>t</th>\n",
       "      <th>p5a</th>\n",
       "      <th>date</th>\n",
       "    </tr>\n",
       "  </thead>\n",
       "  <tbody>\n",
       "    <tr>\n",
       "      <th>0</th>\n",
       "      <td>2100160001</td>\n",
       "      <td>4</td>\n",
       "      <td>NaN</td>\n",
       "      <td>2016-01-01</td>\n",
       "      <td>5</td>\n",
       "      <td>00:55</td>\n",
       "      <td>1</td>\n",
       "      <td>1</td>\n",
       "      <td>0</td>\n",
       "      <td>2</td>\n",
       "      <td>...</td>\n",
       "      <td>NaN</td>\n",
       "      <td>711403</td>\n",
       "      <td>NaN</td>\n",
       "      <td>Souhlasnýsesměremúseku</td>\n",
       "      <td>Pomalý</td>\n",
       "      <td>554782.0</td>\n",
       "      <td>451622.0</td>\n",
       "      <td>GN_V0.1UIR-ADR_410</td>\n",
       "      <td>1</td>\n",
       "      <td>2016-01-01 00:55:00</td>\n",
       "    </tr>\n",
       "    <tr>\n",
       "      <th>1</th>\n",
       "      <td>2100160002</td>\n",
       "      <td>4</td>\n",
       "      <td>NaN</td>\n",
       "      <td>2016-01-01</td>\n",
       "      <td>5</td>\n",
       "      <td>01:30</td>\n",
       "      <td>1</td>\n",
       "      <td>3</td>\n",
       "      <td>0</td>\n",
       "      <td>2</td>\n",
       "      <td>...</td>\n",
       "      <td>NaN</td>\n",
       "      <td>NaN</td>\n",
       "      <td>NaN</td>\n",
       "      <td>NaN</td>\n",
       "      <td>NaN</td>\n",
       "      <td>NaN</td>\n",
       "      <td>NaN</td>\n",
       "      <td>NaN</td>\n",
       "      <td>1</td>\n",
       "      <td>2016-01-01 01:30:00</td>\n",
       "    </tr>\n",
       "    <tr>\n",
       "      <th>2</th>\n",
       "      <td>2100160003</td>\n",
       "      <td>5</td>\n",
       "      <td>NaN</td>\n",
       "      <td>2016-01-01</td>\n",
       "      <td>5</td>\n",
       "      <td>01:00</td>\n",
       "      <td>1</td>\n",
       "      <td>2</td>\n",
       "      <td>0</td>\n",
       "      <td>2</td>\n",
       "      <td>...</td>\n",
       "      <td>NaN</td>\n",
       "      <td>NaN</td>\n",
       "      <td>NaN</td>\n",
       "      <td>NaN</td>\n",
       "      <td>NaN</td>\n",
       "      <td>NaN</td>\n",
       "      <td>NaN</td>\n",
       "      <td>NaN</td>\n",
       "      <td>1</td>\n",
       "      <td>2016-01-01 01:00:00</td>\n",
       "    </tr>\n",
       "    <tr>\n",
       "      <th>3</th>\n",
       "      <td>2100160004</td>\n",
       "      <td>6</td>\n",
       "      <td>NaN</td>\n",
       "      <td>2016-01-01</td>\n",
       "      <td>5</td>\n",
       "      <td>01:20</td>\n",
       "      <td>9</td>\n",
       "      <td>0</td>\n",
       "      <td>0</td>\n",
       "      <td>2</td>\n",
       "      <td>...</td>\n",
       "      <td>NaN</td>\n",
       "      <td>NaN</td>\n",
       "      <td>NaN</td>\n",
       "      <td>NaN</td>\n",
       "      <td>NaN</td>\n",
       "      <td>NaN</td>\n",
       "      <td>NaN</td>\n",
       "      <td>NaN</td>\n",
       "      <td>1</td>\n",
       "      <td>2016-01-01 01:20:00</td>\n",
       "    </tr>\n",
       "    <tr>\n",
       "      <th>4</th>\n",
       "      <td>2100160005</td>\n",
       "      <td>6</td>\n",
       "      <td>NaN</td>\n",
       "      <td>2016-01-01</td>\n",
       "      <td>5</td>\n",
       "      <td>00:00</td>\n",
       "      <td>2</td>\n",
       "      <td>0</td>\n",
       "      <td>0</td>\n",
       "      <td>2</td>\n",
       "      <td>...</td>\n",
       "      <td>NaN</td>\n",
       "      <td>NaN</td>\n",
       "      <td>NaN</td>\n",
       "      <td>NaN</td>\n",
       "      <td>NaN</td>\n",
       "      <td>NaN</td>\n",
       "      <td>NaN</td>\n",
       "      <td>NaN</td>\n",
       "      <td>1</td>\n",
       "      <td>2016-01-01 00:00:00</td>\n",
       "    </tr>\n",
       "    <tr>\n",
       "      <th>...</th>\n",
       "      <td>...</td>\n",
       "      <td>...</td>\n",
       "      <td>...</td>\n",
       "      <td>...</td>\n",
       "      <td>...</td>\n",
       "      <td>...</td>\n",
       "      <td>...</td>\n",
       "      <td>...</td>\n",
       "      <td>...</td>\n",
       "      <td>...</td>\n",
       "      <td>...</td>\n",
       "      <td>...</td>\n",
       "      <td>...</td>\n",
       "      <td>...</td>\n",
       "      <td>...</td>\n",
       "      <td>...</td>\n",
       "      <td>...</td>\n",
       "      <td>...</td>\n",
       "      <td>...</td>\n",
       "      <td>...</td>\n",
       "      <td>...</td>\n",
       "    </tr>\n",
       "    <tr>\n",
       "      <th>707022</th>\n",
       "      <td>190910224060</td>\n",
       "      <td>3</td>\n",
       "      <td>21030.0</td>\n",
       "      <td>2022-12-28</td>\n",
       "      <td>3</td>\n",
       "      <td>08:35</td>\n",
       "      <td>5</td>\n",
       "      <td>0</td>\n",
       "      <td>0</td>\n",
       "      <td>2</td>\n",
       "      <td>...</td>\n",
       "      <td>21030</td>\n",
       "      <td>NaN</td>\n",
       "      <td>NaN</td>\n",
       "      <td>NaN</td>\n",
       "      <td>NaN</td>\n",
       "      <td>511587.0</td>\n",
       "      <td>NaN</td>\n",
       "      <td>NaN</td>\n",
       "      <td>2</td>\n",
       "      <td>2022-12-28 08:35:00</td>\n",
       "    </tr>\n",
       "    <tr>\n",
       "      <th>707023</th>\n",
       "      <td>190910224148</td>\n",
       "      <td>8</td>\n",
       "      <td>NaN</td>\n",
       "      <td>2022-12-27</td>\n",
       "      <td>2</td>\n",
       "      <td>19:00</td>\n",
       "      <td>3</td>\n",
       "      <td>0</td>\n",
       "      <td>6</td>\n",
       "      <td>2</td>\n",
       "      <td>...</td>\n",
       "      <td>NaN</td>\n",
       "      <td>NaN</td>\n",
       "      <td>NaN</td>\n",
       "      <td>NaN</td>\n",
       "      <td>NaN</td>\n",
       "      <td>538434.0</td>\n",
       "      <td>554553.0</td>\n",
       "      <td>NaN</td>\n",
       "      <td>1</td>\n",
       "      <td>2022-12-27 19:00:00</td>\n",
       "    </tr>\n",
       "    <tr>\n",
       "      <th>707024</th>\n",
       "      <td>190910224288</td>\n",
       "      <td>6</td>\n",
       "      <td>NaN</td>\n",
       "      <td>2022-12-30</td>\n",
       "      <td>5</td>\n",
       "      <td>10:00</td>\n",
       "      <td>3</td>\n",
       "      <td>0</td>\n",
       "      <td>3</td>\n",
       "      <td>2</td>\n",
       "      <td>...</td>\n",
       "      <td>NaN</td>\n",
       "      <td>NaN</td>\n",
       "      <td>NaN</td>\n",
       "      <td>NaN</td>\n",
       "      <td>NaN</td>\n",
       "      <td>560464.0</td>\n",
       "      <td>550817.0</td>\n",
       "      <td>NaN</td>\n",
       "      <td>1</td>\n",
       "      <td>2022-12-30 10:00:00</td>\n",
       "    </tr>\n",
       "    <tr>\n",
       "      <th>707025</th>\n",
       "      <td>190910224334</td>\n",
       "      <td>2</td>\n",
       "      <td>210.0</td>\n",
       "      <td>2022-12-30</td>\n",
       "      <td>5</td>\n",
       "      <td>15:25</td>\n",
       "      <td>3</td>\n",
       "      <td>0</td>\n",
       "      <td>2</td>\n",
       "      <td>2</td>\n",
       "      <td>...</td>\n",
       "      <td>210</td>\n",
       "      <td>NaN</td>\n",
       "      <td>NaN</td>\n",
       "      <td>NaN</td>\n",
       "      <td>NaN</td>\n",
       "      <td>560286.0</td>\n",
       "      <td>NaN</td>\n",
       "      <td>NaN</td>\n",
       "      <td>1</td>\n",
       "      <td>2022-12-30 15:25:00</td>\n",
       "    </tr>\n",
       "    <tr>\n",
       "      <th>707026</th>\n",
       "      <td>190910224416</td>\n",
       "      <td>1</td>\n",
       "      <td>13.0</td>\n",
       "      <td>2022-12-31</td>\n",
       "      <td>6</td>\n",
       "      <td>16:35</td>\n",
       "      <td>1</td>\n",
       "      <td>1</td>\n",
       "      <td>0</td>\n",
       "      <td>1</td>\n",
       "      <td>...</td>\n",
       "      <td>13</td>\n",
       "      <td>NaN</td>\n",
       "      <td>NaN</td>\n",
       "      <td>NaN</td>\n",
       "      <td>NaN</td>\n",
       "      <td>578045.0</td>\n",
       "      <td>NaN</td>\n",
       "      <td>NaN</td>\n",
       "      <td>2</td>\n",
       "      <td>2022-12-31 16:35:00</td>\n",
       "    </tr>\n",
       "  </tbody>\n",
       "</table>\n",
       "<p>707027 rows × 65 columns</p>\n",
       "</div>"
      ],
      "text/plain": [
       "        identification  ground_communication_type  \\\n",
       "0           2100160001                          4   \n",
       "1           2100160002                          4   \n",
       "2           2100160003                          5   \n",
       "3           2100160004                          6   \n",
       "4           2100160005                          6   \n",
       "...                ...                        ...   \n",
       "707022    190910224060                          3   \n",
       "707023    190910224148                          8   \n",
       "707024    190910224288                          6   \n",
       "707025    190910224334                          2   \n",
       "707026    190910224416                          1   \n",
       "\n",
       "        ground_communication_number day_month_year  weekday   time  \\\n",
       "0                               NaN     2016-01-01        5  00:55   \n",
       "1                               NaN     2016-01-01        5  01:30   \n",
       "2                               NaN     2016-01-01        5  01:00   \n",
       "3                               NaN     2016-01-01        5  01:20   \n",
       "4                               NaN     2016-01-01        5  00:00   \n",
       "...                             ...            ...      ...    ...   \n",
       "707022                      21030.0     2022-12-28        3  08:35   \n",
       "707023                          NaN     2022-12-27        2  19:00   \n",
       "707024                          NaN     2022-12-30        5  10:00   \n",
       "707025                        210.0     2022-12-30        5  15:25   \n",
       "707026                         13.0     2022-12-31        6  16:35   \n",
       "\n",
       "        accident_type  type_of_collision_of_vehicles  type_of_obstacle  \\\n",
       "0                   1                              1                 0   \n",
       "1                   1                              3                 0   \n",
       "2                   1                              2                 0   \n",
       "3                   9                              0                 0   \n",
       "4                   2                              0                 0   \n",
       "...               ...                            ...               ...   \n",
       "707022              5                              0                 0   \n",
       "707023              3                              0                 6   \n",
       "707024              3                              0                 3   \n",
       "707025              3                              0                 2   \n",
       "707026              1                              1                 0   \n",
       "\n",
       "        life_consequences  ...      l       n    o                       p  \\\n",
       "0                       2  ...    NaN  711403  NaN  Souhlasnýsesměremúseku   \n",
       "1                       2  ...    NaN     NaN  NaN                     NaN   \n",
       "2                       2  ...    NaN     NaN  NaN                     NaN   \n",
       "3                       2  ...    NaN     NaN  NaN                     NaN   \n",
       "4                       2  ...    NaN     NaN  NaN                     NaN   \n",
       "...                   ...  ...    ...     ...  ...                     ...   \n",
       "707022                  2  ...  21030     NaN  NaN                     NaN   \n",
       "707023                  2  ...    NaN     NaN  NaN                     NaN   \n",
       "707024                  2  ...    NaN     NaN  NaN                     NaN   \n",
       "707025                  2  ...    210     NaN  NaN                     NaN   \n",
       "707026                  1  ...     13     NaN  NaN                     NaN   \n",
       "\n",
       "             q         r         s                   t  p5a  \\\n",
       "0       Pomalý  554782.0  451622.0  GN_V0.1UIR-ADR_410    1   \n",
       "1          NaN       NaN       NaN                 NaN    1   \n",
       "2          NaN       NaN       NaN                 NaN    1   \n",
       "3          NaN       NaN       NaN                 NaN    1   \n",
       "4          NaN       NaN       NaN                 NaN    1   \n",
       "...        ...       ...       ...                 ...  ...   \n",
       "707022     NaN  511587.0       NaN                 NaN    2   \n",
       "707023     NaN  538434.0  554553.0                 NaN    1   \n",
       "707024     NaN  560464.0  550817.0                 NaN    1   \n",
       "707025     NaN  560286.0       NaN                 NaN    1   \n",
       "707026     NaN  578045.0       NaN                 NaN    2   \n",
       "\n",
       "                      date  \n",
       "0      2016-01-01 00:55:00  \n",
       "1      2016-01-01 01:30:00  \n",
       "2      2016-01-01 01:00:00  \n",
       "3      2016-01-01 01:20:00  \n",
       "4      2016-01-01 00:00:00  \n",
       "...                    ...  \n",
       "707022 2022-12-28 08:35:00  \n",
       "707023 2022-12-27 19:00:00  \n",
       "707024 2022-12-30 10:00:00  \n",
       "707025 2022-12-30 15:25:00  \n",
       "707026 2022-12-31 16:35:00  \n",
       "\n",
       "[707027 rows x 65 columns]"
      ]
     },
     "execution_count": 3,
     "metadata": {},
     "output_type": "execute_result"
    }
   ],
   "source": [
    "accidents_df"
   ]
  },
  {
   "cell_type": "code",
   "execution_count": 4,
   "metadata": {
    "scrolled": true
   },
   "outputs": [
    {
     "data": {
      "text/plain": [
       "h                              0.322940\n",
       "a                              0.330374\n",
       "b                              0.330374\n",
       "i                              0.445825\n",
       "l                              0.521242\n",
       "ground_communication_number    0.534154\n",
       "s                              0.626130\n",
       "p39                            0.883502\n",
       "j                              0.978371\n",
       "o                              0.998059\n",
       "dtype: float64"
      ]
     },
     "execution_count": 4,
     "metadata": {},
     "output_type": "execute_result"
    }
   ],
   "source": [
    "# percentage of null values in each column\n",
    "# columns where most of the rows are missing should probably be dropped, as some columns are mising over 90 percent of records\n",
    "(accidents_df.isnull().sum()/len(accidents_df)).sort_values().tail(10)"
   ]
  },
  {
   "cell_type": "code",
   "execution_count": 5,
   "metadata": {},
   "outputs": [
    {
     "data": {
      "text/plain": [
       "Text(0, 0.5, 'number of accidents')"
      ]
     },
     "execution_count": 5,
     "metadata": {},
     "output_type": "execute_result"
    },
    {
     "data": {
      "image/png": "[encoded data removed]",
      "text/plain": [
       "<Figure size 432x288 with 1 Axes>"
      ]
     },
     "metadata": {
      "needs_background": "light"
     },
     "output_type": "display_data"
    }
   ],
   "source": [
    "# during the weekend, i.e. saturday (6) and sunday (0), less accidents. \n",
    "plt.hist(accidents_df['weekday'], bins=7, rwidth=0.8)\n",
    "plt.title(\"Number of accidents by weekday\")\n",
    "plt.xlabel(\"weekday (0 = Sunday)\")\n",
    "plt.ylabel(\"number of accidents\")"
   ]
  },
  {
   "cell_type": "code",
   "execution_count": 14,
   "metadata": {},
   "outputs": [
    {
     "data": {
      "text/plain": [
       "Text(0, 0.5, 'number of accidents')"
      ]
     },
     "execution_count": 14,
     "metadata": {},
     "output_type": "execute_result"
    },
    {
     "data": {
      "image/png": "[encoded data removed]",
      "text/plain": [
       "<Figure size 432x288 with 1 Axes>"
      ]
     },
     "metadata": {
      "needs_background": "light"
     },
     "output_type": "display_data"
    }
   ],
   "source": [
    "# most of the accidents happened during day, when visibility was not worsened by weather conditions\n",
    "\n",
    "plt.hist(accidents_df['visibility'], bins=7, rwidth=0.8)\n",
    "\n",
    "plt.title(\"Visibility during accidents\")\n",
    "plt.xlabel(\"visibility\")\n",
    "plt.ylabel(\"number of accidents\")"
   ]
  },
  {
   "cell_type": "code",
   "execution_count": 15,
   "metadata": {},
   "outputs": [
    {
     "data": {
      "text/plain": [
       "Text(0, 0.5, 'number of accidents')"
      ]
     },
     "execution_count": 15,
     "metadata": {},
     "output_type": "execute_result"
    },
    {
     "data": {
      "image/png": "[encoded data removed]",
      "text/plain": [
       "<Figure size 432x288 with 1 Axes>"
      ]
     },
     "metadata": {
      "needs_background": "light"
     },
     "output_type": "display_data"
    }
   ],
   "source": [
    "# most of the accidents happened during normal wind conditions\n",
    "\n",
    "plt.hist(accidents_df['wind_condition'], bins=8, rwidth=0.8)\n",
    "plt.title(\"Wind condition during accidents\")\n",
    "plt.xlabel(\"wind condition\")\n",
    "plt.ylabel(\"number of accidents\")"
   ]
  },
  {
   "cell_type": "code",
   "execution_count": 16,
   "metadata": {},
   "outputs": [
    {
     "data": {
      "text/plain": [
       "Text(0, 0.5, 'number of accidents')"
      ]
     },
     "execution_count": 16,
     "metadata": {},
     "output_type": "execute_result"
    },
    {
     "data": {
      "image/png": "[encoded data removed]",
      "text/plain": [
       "<Figure size 432x288 with 1 Axes>"
      ]
     },
     "metadata": {
      "needs_background": "light"
     },
     "output_type": "display_data"
    }
   ],
   "source": [
    "# main culprit = almost always driver of the motor vehicle\n",
    "\n",
    "plt.hist(accidents_df['culprits_of_accident'], bins=8, rwidth=0.8)\n",
    "plt.title(\"Culprits of accidents\")\n",
    "plt.xlabel(\"culprit\")\n",
    "plt.ylabel(\"number of accidents\")"
   ]
  },
  {
   "cell_type": "code",
   "execution_count": 17,
   "metadata": {},
   "outputs": [],
   "source": [
    "daily_count = accidents_df.groupby(accidents_df['date'].dt.date)['date'].count()\n",
    "monthly_count = accidents_df.groupby(accidents_df['date'].dt.to_period('M'))['date'].count()\n",
    "yearly_count = accidents_df.groupby(accidents_df['date'].dt.to_period('Y'))['date'].count()\n"
   ]
  },
  {
   "cell_type": "code",
   "execution_count": 18,
   "metadata": {},
   "outputs": [
    {
     "data": {
      "text/plain": [
       "<matplotlib.axes._subplots.AxesSubplot at 0x22b830aedf0>"
      ]
     },
     "execution_count": 18,
     "metadata": {},
     "output_type": "execute_result"
    },
    {
     "data": {
      "image/png": "[encoded data removed]",
      "text/plain": [
       "<Figure size 432x288 with 1 Axes>"
      ]
     },
     "metadata": {
      "needs_background": "light"
     },
     "output_type": "display_data"
    }
   ],
   "source": [
    "daily_count.plot()"
   ]
  },
  {
   "cell_type": "code",
   "execution_count": 19,
   "metadata": {},
   "outputs": [
    {
     "data": {
      "text/plain": [
       "Text(0, 0.5, 'number of accidents')"
      ]
     },
     "execution_count": 19,
     "metadata": {},
     "output_type": "execute_result"
    },
    {
     "data": {
      "image/png": "[encoded data removed]",
      "text/plain": [
       "<Figure size 432x288 with 1 Axes>"
      ]
     },
     "metadata": {
      "needs_background": "light"
     },
     "output_type": "display_data"
    }
   ],
   "source": [
    "monthly_count.plot()\n",
    "plt.title(\"Accidents by month\")\n",
    "plt.xlabel(\"month\")\n",
    "plt.ylabel(\"number of accidents\")"
   ]
  },
  {
   "cell_type": "code",
   "execution_count": 20,
   "metadata": {},
   "outputs": [
    {
     "data": {
      "text/plain": [
       "Text(0, 0.5, 'number of accidents')"
      ]
     },
     "execution_count": 20,
     "metadata": {},
     "output_type": "execute_result"
    },
    {
     "data": {
      "image/png": "[encoded data removed]",
      "text/plain": [
       "<Figure size 432x288 with 1 Axes>"
      ]
     },
     "metadata": {
      "needs_background": "light"
     },
     "output_type": "display_data"
    }
   ],
   "source": [
    "yearly_count.plot()\n",
    "plt.title(\"Accidents by year\")\n",
    "plt.xlabel(\"year\")\n",
    "plt.ylabel(\"number of accidents\")"
   ]
  },
  {
   "cell_type": "code",
   "execution_count": null,
   "metadata": {},
   "outputs": [],
   "source": []
  },
  {
   "cell_type": "code",
   "execution_count": null,
   "metadata": {},
   "outputs": [],
   "source": []
  }
 ],
 "metadata": {
  "kernelspec": {
   "display_name": "Python 3",
   "language": "python",
   "name": "python3"
  },
  "language_info": {
   "codemirror_mode": {
    "name": "ipython",
    "version": 3
   },
   "file_extension": ".py",
   "mimetype": "text/x-python",
   "name": "python",
   "nbconvert_exporter": "python",
   "pygments_lexer": "ipython3",
   "version": "3.8.3"
  }
 },
 "nbformat": 4,
 "nbformat_minor": 4
}
