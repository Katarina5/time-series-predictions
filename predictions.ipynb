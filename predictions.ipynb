{
 "cells": [
  {
   "cell_type": "code",
   "execution_count": 16,
   "metadata": {
    "scrolled": true
   },
   "outputs": [],
   "source": [
    "import pandas as pd\n",
    "import numpy as np\n",
    "import matplotlib.pyplot as plt\n",
    "import glob\n",
    "from statsmodels.tsa.seasonal import seasonal_decompose\n",
    "from sklearn.svm import SVR\n",
    "from sklearn.preprocessing import MinMaxScaler\n",
    "from sklearn.model_selection import GridSearchCV, TimeSeriesSplit\n",
    "import argparse\n",
    "from prophet import Prophet"
   ]
  },
  {
   "cell_type": "code",
   "execution_count": 17,
   "metadata": {},
   "outputs": [],
   "source": [
    "parser = argparse.ArgumentParser()\n",
    "\n",
    "parser.add_argument('strings', metavar='STRING', nargs='*', help='String for searching')\n",
    "parser.add_argument('-f', '--file', help='Path for input file. First line should contain number of lines to search in')\n",
    "parser.add_argument('--predict_periods', help=\"How many periods to the future to predict.\", type=int, default=365)\n",
    "parser.add_argument('--data_file', help=\"File name with dataset.\", type=str, default='accidents_daily.csv')\n",
    "\n",
    "args = parser.parse_args()\n",
    "\n",
    "periods_to_predict = int(args.predict_periods)\n",
    "data_file = args.data_file"
   ]
  },
  {
   "cell_type": "code",
   "execution_count": null,
   "metadata": {},
   "outputs": [],
   "source": []
  },
  {
   "cell_type": "code",
   "execution_count": 18,
   "metadata": {
    "scrolled": false
   },
   "outputs": [
    {
     "data": {
      "text/html": [
       "<div>\n",
       "<style scoped>\n",
       "    .dataframe tbody tr th:only-of-type {\n",
       "        vertical-align: middle;\n",
       "    }\n",
       "\n",
       "    .dataframe tbody tr th {\n",
       "        vertical-align: top;\n",
       "    }\n",
       "\n",
       "    .dataframe thead th {\n",
       "        text-align: right;\n",
       "    }\n",
       "</style>\n",
       "<table border=\"1\" class=\"dataframe\">\n",
       "  <thead>\n",
       "    <tr style=\"text-align: right;\">\n",
       "      <th></th>\n",
       "      <th>y</th>\n",
       "    </tr>\n",
       "    <tr>\n",
       "      <th>date</th>\n",
       "      <th></th>\n",
       "    </tr>\n",
       "  </thead>\n",
       "  <tbody>\n",
       "    <tr>\n",
       "      <th>2016-01-01</th>\n",
       "      <td>450</td>\n",
       "    </tr>\n",
       "    <tr>\n",
       "      <th>2016-01-02</th>\n",
       "      <td>148</td>\n",
       "    </tr>\n",
       "    <tr>\n",
       "      <th>2016-01-03</th>\n",
       "      <td>99</td>\n",
       "    </tr>\n",
       "    <tr>\n",
       "      <th>2016-01-04</th>\n",
       "      <td>344</td>\n",
       "    </tr>\n",
       "    <tr>\n",
       "      <th>2016-01-05</th>\n",
       "      <td>271</td>\n",
       "    </tr>\n",
       "    <tr>\n",
       "      <th>...</th>\n",
       "      <td>...</td>\n",
       "    </tr>\n",
       "    <tr>\n",
       "      <th>2022-12-27</th>\n",
       "      <td>169</td>\n",
       "    </tr>\n",
       "    <tr>\n",
       "      <th>2022-12-28</th>\n",
       "      <td>157</td>\n",
       "    </tr>\n",
       "    <tr>\n",
       "      <th>2022-12-29</th>\n",
       "      <td>151</td>\n",
       "    </tr>\n",
       "    <tr>\n",
       "      <th>2022-12-30</th>\n",
       "      <td>157</td>\n",
       "    </tr>\n",
       "    <tr>\n",
       "      <th>2022-12-31</th>\n",
       "      <td>111</td>\n",
       "    </tr>\n",
       "  </tbody>\n",
       "</table>\n",
       "<p>2557 rows × 1 columns</p>\n",
       "</div>"
      ],
      "text/plain": [
       "              y\n",
       "date           \n",
       "2016-01-01  450\n",
       "2016-01-02  148\n",
       "2016-01-03   99\n",
       "2016-01-04  344\n",
       "2016-01-05  271\n",
       "...         ...\n",
       "2022-12-27  169\n",
       "2022-12-28  157\n",
       "2022-12-29  151\n",
       "2022-12-30  157\n",
       "2022-12-31  111\n",
       "\n",
       "[2557 rows x 1 columns]"
      ]
     },
     "execution_count": 18,
     "metadata": {},
     "output_type": "execute_result"
    }
   ],
   "source": [
    "dataset_df = pd.read_csv(data_file, index_col='date', parse_dates=True)\n",
    "\n",
    "dataset_df"
   ]
  },
  {
   "cell_type": "code",
   "execution_count": null,
   "metadata": {},
   "outputs": [],
   "source": []
  },
  {
   "cell_type": "code",
   "execution_count": null,
   "metadata": {
    "scrolled": false
   },
   "outputs": [],
   "source": []
  },
  {
   "cell_type": "code",
   "execution_count": 19,
   "metadata": {},
   "outputs": [
    {
     "name": "stdout",
     "output_type": "stream",
     "text": [
      "             ds    y\n",
      "0    2016-01-01  450\n",
      "1    2016-01-02  148\n",
      "2    2016-01-03   99\n",
      "3    2016-01-04  344\n",
      "4    2016-01-05  271\n",
      "...         ...  ...\n",
      "2187 2021-12-27  214\n",
      "2188 2021-12-28  199\n",
      "2189 2021-12-29  181\n",
      "2190 2021-12-30  198\n",
      "2191 2021-12-31  141\n",
      "\n",
      "[2192 rows x 2 columns]\n",
      "            ds    y\n",
      "0   2022-01-01  543\n",
      "1   2022-01-02  123\n",
      "2   2022-01-03  234\n",
      "3   2022-01-04  246\n",
      "4   2022-01-05  219\n",
      "..         ...  ...\n",
      "360 2022-12-27  169\n",
      "361 2022-12-28  157\n",
      "362 2022-12-29  151\n",
      "363 2022-12-30  157\n",
      "364 2022-12-31  111\n",
      "\n",
      "[365 rows x 2 columns]\n"
     ]
    }
   ],
   "source": [
    "# split the data to training set and test set\n",
    "\n",
    "column_names = ['ds', 'y']  # ds = date, y = number of accidents in that day/month\n",
    "\n",
    "# train set = years 2016-2021, test set = year 2022\n",
    "dataset_train = dataset_df[:len(dataset_df) - periods_to_predict].reset_index()  # reserve last 12 observation as test set\n",
    "dataset_train.columns = column_names\n",
    "dataset_test = dataset_df[len(dataset_df) - periods_to_predict:].reset_index()\n",
    "dataset_test.columns = column_names\n",
    "\n",
    "print(dataset_train)\n",
    "print(dataset_test)"
   ]
  },
  {
   "cell_type": "code",
   "execution_count": 20,
   "metadata": {},
   "outputs": [
    {
     "name": "stdout",
     "output_type": "stream",
     "text": [
      "             ds    y\n",
      "0    2016-01-01  450\n",
      "1    2016-01-02  148\n",
      "2    2016-01-03   99\n",
      "3    2016-01-04  344\n",
      "4    2016-01-05  271\n",
      "...         ...  ...\n",
      "2552 2022-12-27  169\n",
      "2553 2022-12-28  157\n",
      "2554 2022-12-29  151\n",
      "2555 2022-12-30  157\n",
      "2556 2022-12-31  111\n",
      "\n",
      "[2557 rows x 2 columns]\n"
     ]
    }
   ],
   "source": [
    "dataset_df.reset_index(inplace=True)\n",
    "dataset_df.columns = column_names\n",
    "\n",
    "print(dataset_df)"
   ]
  },
  {
   "cell_type": "code",
   "execution_count": 21,
   "metadata": {},
   "outputs": [
    {
     "data": {
      "text/html": [
       "<div>\n",
       "<style scoped>\n",
       "    .dataframe tbody tr th:only-of-type {\n",
       "        vertical-align: middle;\n",
       "    }\n",
       "\n",
       "    .dataframe tbody tr th {\n",
       "        vertical-align: top;\n",
       "    }\n",
       "\n",
       "    .dataframe thead th {\n",
       "        text-align: right;\n",
       "    }\n",
       "</style>\n",
       "<table border=\"1\" class=\"dataframe\">\n",
       "  <thead>\n",
       "    <tr style=\"text-align: right;\">\n",
       "      <th></th>\n",
       "      <th>original</th>\n",
       "    </tr>\n",
       "    <tr>\n",
       "      <th>ds</th>\n",
       "      <th></th>\n",
       "    </tr>\n",
       "  </thead>\n",
       "  <tbody>\n",
       "    <tr>\n",
       "      <th>2016-01-01</th>\n",
       "      <td>450.0</td>\n",
       "    </tr>\n",
       "    <tr>\n",
       "      <th>2016-01-02</th>\n",
       "      <td>148.0</td>\n",
       "    </tr>\n",
       "    <tr>\n",
       "      <th>2016-01-03</th>\n",
       "      <td>99.0</td>\n",
       "    </tr>\n",
       "    <tr>\n",
       "      <th>2016-01-04</th>\n",
       "      <td>344.0</td>\n",
       "    </tr>\n",
       "    <tr>\n",
       "      <th>2016-01-05</th>\n",
       "      <td>271.0</td>\n",
       "    </tr>\n",
       "    <tr>\n",
       "      <th>...</th>\n",
       "      <td>...</td>\n",
       "    </tr>\n",
       "    <tr>\n",
       "      <th>2023-12-27</th>\n",
       "      <td>NaN</td>\n",
       "    </tr>\n",
       "    <tr>\n",
       "      <th>2023-12-28</th>\n",
       "      <td>NaN</td>\n",
       "    </tr>\n",
       "    <tr>\n",
       "      <th>2023-12-29</th>\n",
       "      <td>NaN</td>\n",
       "    </tr>\n",
       "    <tr>\n",
       "      <th>2023-12-30</th>\n",
       "      <td>NaN</td>\n",
       "    </tr>\n",
       "    <tr>\n",
       "      <th>2023-12-31</th>\n",
       "      <td>NaN</td>\n",
       "    </tr>\n",
       "  </tbody>\n",
       "</table>\n",
       "<p>2922 rows × 1 columns</p>\n",
       "</div>"
      ],
      "text/plain": [
       "            original\n",
       "ds                  \n",
       "2016-01-01     450.0\n",
       "2016-01-02     148.0\n",
       "2016-01-03      99.0\n",
       "2016-01-04     344.0\n",
       "2016-01-05     271.0\n",
       "...              ...\n",
       "2023-12-27       NaN\n",
       "2023-12-28       NaN\n",
       "2023-12-29       NaN\n",
       "2023-12-30       NaN\n",
       "2023-12-31       NaN\n",
       "\n",
       "[2922 rows x 1 columns]"
      ]
     },
     "execution_count": 21,
     "metadata": {},
     "output_type": "execute_result"
    }
   ],
   "source": [
    "# create a dataframe that will contain forecasts from all applied algorithms\n",
    "predict_df = pd.DataFrame(dataset_df['ds'])\n",
    "\n",
    "# add new dates to the predict_df in the length of months from the arguments\n",
    "last_date = dataset_df['ds'].max()\n",
    "next_dates = pd.date_range(start=last_date, periods=periods_to_predict + 1, freq='1d')\n",
    "new_rows = pd.DataFrame(next_dates, columns=['ds'])\n",
    "new_rows = new_rows.iloc[1:]\n",
    "\n",
    "predict_df = pd.concat([predict_df, new_rows])\n",
    "\n",
    "# add original values to the predict_df dataframe\n",
    "predict_df['original'] = list(dataset_train['y']) + list(dataset_test['y']) + [None] * periods_to_predict\n",
    "predict_df.set_index('ds', inplace=True)\n",
    "\n",
    "predict_df"
   ]
  },
  {
   "cell_type": "code",
   "execution_count": null,
   "metadata": {},
   "outputs": [],
   "source": []
  },
  {
   "cell_type": "code",
   "execution_count": null,
   "metadata": {},
   "outputs": [],
   "source": []
  },
  {
   "cell_type": "code",
   "execution_count": 7,
   "metadata": {},
   "outputs": [
    {
     "name": "stderr",
     "output_type": "stream",
     "text": [
      "16:03:02 - cmdstanpy - INFO - Chain [1] start processing\n",
      "16:03:03 - cmdstanpy - INFO - Chain [1] done processing\n"
     ]
    }
   ],
   "source": [
    "# Prophet\n",
    "\n",
    "prophet_model = Prophet()  # create new object for forecasting\n",
    "prophet_model.fit(dataset_train)  # fit the training data\n",
    "future = prophet_model.make_future_dataframe(periods=periods_to_predict + periods_to_predict, freq='1d')  # set length of forecast\n",
    "forecast = prophet_model.predict(future)  # predict for the number of observations set in the previous step"
   ]
  },
  {
   "cell_type": "code",
   "execution_count": 8,
   "metadata": {},
   "outputs": [
    {
     "data": {
      "text/plain": [
       "Text(83.09722222222221, 0.5, 'number of accidents')"
      ]
     },
     "execution_count": 8,
     "metadata": {},
     "output_type": "execute_result"
    },
    {
     "data": {
      "image/png": "[encoded data removed]",
      "text/plain": [
       "<Figure size 1000x600 with 1 Axes>"
      ]
     },
     "metadata": {},
     "output_type": "display_data"
    }
   ],
   "source": [
    "fig1 = prophet_model.plot(forecast)  # plot the forecast\n",
    "plt.title(\"Prophet\")\n",
    "plt.xlabel(\"date\")\n",
    "plt.ylabel(\"number of accidents\")"
   ]
  },
  {
   "cell_type": "code",
   "execution_count": 9,
   "metadata": {},
   "outputs": [
    {
     "data": {
      "text/plain": [
       "Text(0, 0.5, 'number of accidents')"
      ]
     },
     "execution_count": 9,
     "metadata": {},
     "output_type": "execute_result"
    },
    {
     "data": {
      "image/png": "[encoded data removed]",
      "text/plain": [
       "<Figure size 640x480 with 1 Axes>"
      ]
     },
     "metadata": {},
     "output_type": "display_data"
    }
   ],
   "source": [
    "predict_df['prophet'] = [None]*len(dataset_train) + list(forecast['yhat'].tail(periods_to_predict + periods_to_predict))  # add the forecast to predict_df\n",
    "\n",
    "predict_df[['original', 'prophet']].plot()\n",
    "plt.title(\"Prophet\")\n",
    "plt.xlabel(\"date\")\n",
    "plt.ylabel(\"number of accidents\")"
   ]
  },
  {
   "cell_type": "code",
   "execution_count": null,
   "metadata": {},
   "outputs": [],
   "source": []
  },
  {
   "cell_type": "code",
   "execution_count": null,
   "metadata": {},
   "outputs": [],
   "source": []
  },
  {
   "cell_type": "code",
   "execution_count": 10,
   "metadata": {},
   "outputs": [],
   "source": [
    "# # use grid search to find the most optimal hyperparameters for SVR model\n",
    "# param_grid = {\n",
    "#     'kernel': ['rbf', 'sigmoid'],\n",
    "#     'C': [0.1, 1, 10],\n",
    "#     'epsilon': [0.01, 0.1, 1],\n",
    "#     'gamma': ['scale', 'auto', 0.1, 1]\n",
    "# }\n",
    "\n",
    "# cv = TimeSeriesSplit(n_splits=5)\n",
    "\n",
    "# svr = SVR()\n",
    "\n",
    "# grid_search = GridSearchCV(svr, param_grid, cv=cv)\n",
    "# grid_search.fit(dataset_train['ds'].values.reshape(-1, 1), dataset_train['y'].values)  # fit the training data\n",
    "\n",
    "# print(\"Best parameters: \", grid_search.best_params_)  # print the most optimal hyperparameter values\n",
    "# print(\"Best score: \", grid_search.best_score_)"
   ]
  },
  {
   "cell_type": "code",
   "execution_count": 11,
   "metadata": {},
   "outputs": [],
   "source": [
    "# # SVR\n",
    "# svr_model = SVR(kernel='rbf', gamma='auto', C=10, epsilon=1)  # create model with values from the GridSearchCV\n",
    "# svr_model.fit(dataset_train.index.values.reshape(-1, 1), dataset_train['y'].values)  # fit the training data\n",
    "\n",
    "# y_pred = svr_model.predict(dataset_test.index.values.reshape(-1, 1))\n",
    "\n",
    "# y_pred"
   ]
  },
  {
   "cell_type": "code",
   "execution_count": 12,
   "metadata": {},
   "outputs": [],
   "source": [
    "# # plot the whole dataset + add predicted values for 2022\n",
    "# svr_predict_df = pd.DataFrame(dataset_df)\n",
    "# svr_predict_df['forecast_value'] = [None]*len(dataset_train) + list(y_pred)\n",
    "\n",
    "# svr_predict_df.set_index('ds', inplace=True)\n",
    "# svr_predict_df.columns = [\"original\", \"predicted\"]\n",
    "# svr_predict_df.plot()\n",
    "# plt.title(\"SVR by month\")\n",
    "# plt.xlabel(\"month\")\n",
    "# plt.ylabel(\"number of accidents\")"
   ]
  },
  {
   "cell_type": "code",
   "execution_count": null,
   "metadata": {},
   "outputs": [],
   "source": []
  },
  {
   "cell_type": "code",
   "execution_count": 13,
   "metadata": {},
   "outputs": [],
   "source": [
    "from scalecast.Forecaster import Forecaster"
   ]
  },
  {
   "cell_type": "code",
   "execution_count": 14,
   "metadata": {},
   "outputs": [
    {
     "data": {
      "text/plain": [
       "Forecaster(\n",
       "    DateStartActuals=2016-01-01T00:00:00.000000000\n",
       "    DateEndActuals=2022-12-31T00:00:00.000000000\n",
       "    Freq=D\n",
       "    N_actuals=2557\n",
       "    ForecastLength=0\n",
       "    Xvars=[]\n",
       "    TestLength=0\n",
       "    ValidationMetric=rmse\n",
       "    ForecastsEvaluated=[]\n",
       "    CILevel=None\n",
       "    CurrentEstimator=mlr\n",
       "    GridsFile=Grids\n",
       ")"
      ]
     },
     "execution_count": 14,
     "metadata": {},
     "output_type": "execute_result"
    }
   ],
   "source": [
    "# create a Forecaster object that will make forecasts from multiple models\n",
    "f_model = Forecaster(\n",
    "    y=np.array(dataset_df.reset_index()['y']),\n",
    "    current_dates=np.array(dataset_df.reset_index()['ds'])\n",
    ")\n",
    "f_model"
   ]
  },
  {
   "cell_type": "code",
   "execution_count": 15,
   "metadata": {},
   "outputs": [
    {
     "data": {
      "text/plain": [
       "Forecaster(\n",
       "    DateStartActuals=2016-01-01T00:00:00.000000000\n",
       "    DateEndActuals=2022-12-31T00:00:00.000000000\n",
       "    Freq=D\n",
       "    N_actuals=2557\n",
       "    ForecastLength=365\n",
       "    Xvars=['lnt', 'AR1', 'AR2', 'AR3', 'AR4', 'AR5', 'AR6', 'AR7', 'AR8', 'AR9', 'AR10', 'AR11', 'AR12', 'AR13', 'AR14', 'AR15', 'AR16', 'AR17', 'AR18', 'AR19', 'AR20', 'AR21', 'AR22', 'AR23', 'AR24', 'AR25', 'AR26', 'AR27', 'AR28', 'AR29', 'AR30', 'AR31', 'AR32', 'AR33', 'AR34', 'AR35', 'AR36', 'AR37', 'AR38', 'AR39', 'AR40', 'AR41', 'AR42', 'AR43', 'AR44', 'AR45', 'AR46', 'AR47', 'AR48', 'AR49', 'AR50', 'AR51', 'AR52', 'AR53']\n",
       "    TestLength=365\n",
       "    ValidationMetric=rmse\n",
       "    ForecastsEvaluated=[]\n",
       "    CILevel=None\n",
       "    CurrentEstimator=mlr\n",
       "    GridsFile=Grids\n",
       ")"
      ]
     },
     "execution_count": 15,
     "metadata": {},
     "output_type": "execute_result"
    }
   ],
   "source": [
    "f_model.set_test_length(periods_to_predict)  # reserve last n observations as a test set\n",
    "f_model.generate_future_dates(periods_to_predict)  # predict 12 months into the future\n",
    "f_model.set_validation_length(f_model.test_length)\n",
    "f_model.auto_Xvar_select()\n",
    "f_model"
   ]
  },
  {
   "cell_type": "code",
   "execution_count": 16,
   "metadata": {
    "scrolled": true
   },
   "outputs": [
    {
     "name": "stdout",
     "output_type": "stream",
     "text": [
      "Hyperparameter values for arima:\n",
      "{'order': (2, 0, 0), 'seasonal_order': (0, 1, 1, 7)}\n",
      "Hyperparameter values for svr:\n",
      "{'kernel': 'linear', 'C': 3, 'epsilon': 1, 'gamma': 'scale'}\n"
     ]
    },
    {
     "ename": "KeyboardInterrupt",
     "evalue": "",
     "output_type": "error",
     "traceback": [
      "\u001b[1;31m---------------------------------------------------------------------------\u001b[0m",
      "\u001b[1;31mKeyboardInterrupt\u001b[0m                         Traceback (most recent call last)",
      "Cell \u001b[1;32mIn[16], line 4\u001b[0m\n\u001b[0;32m      2\u001b[0m \u001b[38;5;28;01mfor\u001b[39;00m estimator \u001b[38;5;129;01min\u001b[39;00m forecaster_estimators:\n\u001b[0;32m      3\u001b[0m     f_model\u001b[38;5;241m.\u001b[39mset_estimator(estimator)\n\u001b[1;32m----> 4\u001b[0m     \u001b[43mf_model\u001b[49m\u001b[38;5;241;43m.\u001b[39;49m\u001b[43mtune\u001b[49m\u001b[43m(\u001b[49m\u001b[43m)\u001b[49m  \u001b[38;5;66;03m# find optimal hyperparameters for selected method\u001b[39;00m\n\u001b[0;32m      5\u001b[0m     f_model\u001b[38;5;241m.\u001b[39mauto_forecast()  \u001b[38;5;66;03m# predict future values using hyperparameters from the previous step\u001b[39;00m\n\u001b[0;32m      6\u001b[0m     \u001b[38;5;28mprint\u001b[39m(\u001b[38;5;124mf\u001b[39m\u001b[38;5;124m'\u001b[39m\u001b[38;5;124mHyperparameter values for \u001b[39m\u001b[38;5;132;01m{\u001b[39;00mestimator\u001b[38;5;132;01m}\u001b[39;00m\u001b[38;5;124m:\u001b[39m\u001b[38;5;124m'\u001b[39m)\n",
      "File \u001b[1;32m~\\anaconda3\\lib\\site-packages\\scalecast\\_Forecaster_parent.py:1394\u001b[0m, in \u001b[0;36mForecaster_parent.tune\u001b[1;34m(self, dynamic_tuning, set_aside_test_set)\u001b[0m\n\u001b[0;32m   1370\u001b[0m \u001b[38;5;28;01mdef\u001b[39;00m \u001b[38;5;21mtune\u001b[39m(\u001b[38;5;28mself\u001b[39m, dynamic_tuning\u001b[38;5;241m=\u001b[39m\u001b[38;5;28;01mFalse\u001b[39;00m,set_aside_test_set\u001b[38;5;241m=\u001b[39m\u001b[38;5;28;01mTrue\u001b[39;00m):\n\u001b[0;32m   1371\u001b[0m \u001b[38;5;250m    \u001b[39m\u001b[38;5;124;03m\"\"\" Tunes the specified estimator using an ingested grid (ingests a grid from Grids.py with same name as \u001b[39;00m\n\u001b[0;32m   1372\u001b[0m \u001b[38;5;124;03m    the estimator by default). This is akin to cross-validation with one fold and a test_length equal to f.validation_length.\u001b[39;00m\n\u001b[0;32m   1373\u001b[0m \u001b[38;5;124;03m    Any parameters that can be passed as arguments to manual_forecast() can be tuned with this process.\u001b[39;00m\n\u001b[1;32m   (...)\u001b[0m\n\u001b[0;32m   1392\u001b[0m \u001b[38;5;124;03m    >>> f.auto_forecast()\u001b[39;00m\n\u001b[0;32m   1393\u001b[0m \u001b[38;5;124;03m    \"\"\"\u001b[39;00m\n\u001b[1;32m-> 1394\u001b[0m     \u001b[38;5;28;43mself\u001b[39;49m\u001b[38;5;241;43m.\u001b[39;49m\u001b[43mcross_validate\u001b[49m\u001b[43m(\u001b[49m\n\u001b[0;32m   1395\u001b[0m \u001b[43m        \u001b[49m\u001b[43mk\u001b[49m\u001b[38;5;241;43m=\u001b[39;49m\u001b[38;5;241;43m1\u001b[39;49m\u001b[43m,\u001b[49m\n\u001b[0;32m   1396\u001b[0m \u001b[43m        \u001b[49m\u001b[43mdynamic_tuning\u001b[49m\u001b[38;5;241;43m=\u001b[39;49m\u001b[43mdynamic_tuning\u001b[49m\u001b[43m,\u001b[49m\n\u001b[0;32m   1397\u001b[0m \u001b[43m        \u001b[49m\u001b[43mtest_length\u001b[49m\u001b[38;5;241;43m=\u001b[39;49m\u001b[38;5;28;43mself\u001b[39;49m\u001b[38;5;241;43m.\u001b[39;49m\u001b[43mvalidation_length\u001b[49m\u001b[43m,\u001b[49m\n\u001b[0;32m   1398\u001b[0m \u001b[43m        \u001b[49m\u001b[43mset_aside_test_set\u001b[49m\u001b[43m \u001b[49m\u001b[38;5;241;43m=\u001b[39;49m\u001b[43m \u001b[49m\u001b[43mset_aside_test_set\u001b[49m\u001b[43m,\u001b[49m\n\u001b[0;32m   1399\u001b[0m \u001b[43m    \u001b[49m\u001b[43m)\u001b[49m\n",
      "File \u001b[1;32m~\\anaconda3\\lib\\site-packages\\scalecast\\_Forecaster_parent.py:1525\u001b[0m, in \u001b[0;36mForecaster_parent.cross_validate\u001b[1;34m(self, k, test_length, train_length, space_between_sets, rolling, dynamic_tuning, set_aside_test_set, verbose)\u001b[0m\n\u001b[0;32m   1523\u001b[0m \u001b[38;5;28;01mfor\u001b[39;00m h, hp \u001b[38;5;129;01min\u001b[39;00m \u001b[38;5;28menumerate\u001b[39m(grid):\n\u001b[0;32m   1524\u001b[0m     \u001b[38;5;28;01mtry\u001b[39;00m:\n\u001b[1;32m-> 1525\u001b[0m         \u001b[43mf2\u001b[49m\u001b[38;5;241;43m.\u001b[39;49m\u001b[43mmanual_forecast\u001b[49m\u001b[43m(\u001b[49m\n\u001b[0;32m   1526\u001b[0m \u001b[43m            \u001b[49m\u001b[38;5;241;43m*\u001b[39;49m\u001b[38;5;241;43m*\u001b[39;49m\u001b[43mhp\u001b[49m\u001b[43m,\u001b[49m\n\u001b[0;32m   1527\u001b[0m \u001b[43m            \u001b[49m\u001b[43mdynamic_testing\u001b[49m\u001b[38;5;241;43m=\u001b[39;49m\u001b[43mdynamic_tuning\u001b[49m\u001b[43m,\u001b[49m\n\u001b[0;32m   1528\u001b[0m \u001b[43m            \u001b[49m\u001b[43mtest_again\u001b[49m\u001b[38;5;241;43m=\u001b[39;49m\u001b[38;5;28;43;01mFalse\u001b[39;49;00m\u001b[43m,\u001b[49m\n\u001b[0;32m   1529\u001b[0m \u001b[43m            \u001b[49m\u001b[43mbank_history\u001b[49m\u001b[38;5;241;43m=\u001b[39;49m\u001b[38;5;28;43;01mFalse\u001b[39;49;00m\u001b[43m,\u001b[49m\n\u001b[0;32m   1530\u001b[0m \u001b[43m        \u001b[49m\u001b[43m)\u001b[49m\n\u001b[0;32m   1531\u001b[0m         \u001b[38;5;28;01mif\u001b[39;00m is_Forecaster:\n\u001b[0;32m   1532\u001b[0m             fcst \u001b[38;5;241m=\u001b[39m f2\u001b[38;5;241m.\u001b[39mforecast[:]\n",
      "File \u001b[1;32m~\\anaconda3\\lib\\site-packages\\scalecast\\_Forecaster_parent.py:756\u001b[0m, in \u001b[0;36mForecaster_parent.manual_forecast\u001b[1;34m(self, call_me, dynamic_testing, test_again, bank_history, **kwargs)\u001b[0m\n\u001b[0;32m    752\u001b[0m         \u001b[38;5;28mself\u001b[39m\u001b[38;5;241m.\u001b[39mhistory[\u001b[38;5;28mself\u001b[39m\u001b[38;5;241m.\u001b[39mcall_me] \u001b[38;5;241m=\u001b[39m {}\n\u001b[0;32m    754\u001b[0m \u001b[38;5;28;01mtry\u001b[39;00m:\n\u001b[0;32m    755\u001b[0m     preds \u001b[38;5;241m=\u001b[39m (\n\u001b[1;32m--> 756\u001b[0m         \u001b[38;5;28;43mself\u001b[39;49m\u001b[38;5;241;43m.\u001b[39;49m\u001b[43m_forecast_sklearn\u001b[49m\u001b[43m(\u001b[49m\n\u001b[0;32m    757\u001b[0m \u001b[43m            \u001b[49m\u001b[43mfcster\u001b[49m\u001b[38;5;241;43m=\u001b[39;49m\u001b[38;5;28;43mself\u001b[39;49m\u001b[38;5;241;43m.\u001b[39;49m\u001b[43mestimator\u001b[49m\u001b[43m,\u001b[49m\n\u001b[0;32m    758\u001b[0m \u001b[43m            \u001b[49m\u001b[43mdynamic_testing\u001b[49m\u001b[38;5;241;43m=\u001b[39;49m\u001b[43mdynamic_testing\u001b[49m\u001b[43m,\u001b[49m\n\u001b[0;32m    759\u001b[0m \u001b[43m            \u001b[49m\u001b[38;5;241;43m*\u001b[39;49m\u001b[38;5;241;43m*\u001b[39;49m\u001b[43mkwargs\u001b[49m\u001b[43m,\u001b[49m\n\u001b[0;32m    760\u001b[0m \u001b[43m        \u001b[49m\u001b[43m)\u001b[49m\n\u001b[0;32m    761\u001b[0m         \u001b[38;5;28;01mif\u001b[39;00m \u001b[38;5;28mself\u001b[39m\u001b[38;5;241m.\u001b[39mestimator \u001b[38;5;129;01min\u001b[39;00m \u001b[38;5;28mself\u001b[39m\u001b[38;5;241m.\u001b[39msklearn_estimators\n\u001b[0;32m    762\u001b[0m         \u001b[38;5;28;01melse\u001b[39;00m \u001b[38;5;28mgetattr\u001b[39m(\u001b[38;5;28mself\u001b[39m, \u001b[38;5;124mf\u001b[39m\u001b[38;5;124m\"\u001b[39m\u001b[38;5;124m_forecast_\u001b[39m\u001b[38;5;132;01m{\u001b[39;00m\u001b[38;5;28mself\u001b[39m\u001b[38;5;241m.\u001b[39mestimator\u001b[38;5;132;01m}\u001b[39;00m\u001b[38;5;124m\"\u001b[39m)(\n\u001b[0;32m    763\u001b[0m             dynamic_testing\u001b[38;5;241m=\u001b[39mdynamic_testing, \u001b[38;5;241m*\u001b[39m\u001b[38;5;241m*\u001b[39mkwargs\n\u001b[0;32m    764\u001b[0m         )\n\u001b[0;32m    765\u001b[0m     )\n\u001b[0;32m    766\u001b[0m \u001b[38;5;28;01mexcept\u001b[39;00m:\n\u001b[0;32m    767\u001b[0m     \u001b[38;5;28;01mif\u001b[39;00m \u001b[38;5;28mself\u001b[39m\u001b[38;5;241m.\u001b[39mcall_me \u001b[38;5;129;01min\u001b[39;00m \u001b[38;5;28mself\u001b[39m\u001b[38;5;241m.\u001b[39mhistory:\n",
      "File \u001b[1;32m~\\anaconda3\\lib\\site-packages\\scalecast\\_utils.py:15\u001b[0m, in \u001b[0;36m_developer_utils.log_warnings.<locals>.wrapper\u001b[1;34m(*args, **kwargs)\u001b[0m\n\u001b[0;32m     13\u001b[0m \u001b[38;5;28;01mwith\u001b[39;00m warnings\u001b[38;5;241m.\u001b[39mcatch_warnings(record\u001b[38;5;241m=\u001b[39m\u001b[38;5;28;01mTrue\u001b[39;00m) \u001b[38;5;28;01mas\u001b[39;00m warn_list:\n\u001b[0;32m     14\u001b[0m     warnings\u001b[38;5;241m.\u001b[39msimplefilter(\u001b[38;5;124m\"\u001b[39m\u001b[38;5;124malways\u001b[39m\u001b[38;5;124m\"\u001b[39m)\n\u001b[1;32m---> 15\u001b[0m     result \u001b[38;5;241m=\u001b[39m \u001b[43mfunc\u001b[49m\u001b[43m(\u001b[49m\u001b[38;5;241;43m*\u001b[39;49m\u001b[43margs\u001b[49m\u001b[43m,\u001b[49m\u001b[43m \u001b[49m\u001b[38;5;241;43m*\u001b[39;49m\u001b[38;5;241;43m*\u001b[39;49m\u001b[43mkwargs\u001b[49m\u001b[43m)\u001b[49m\n\u001b[0;32m     16\u001b[0m     \u001b[38;5;28;01mfor\u001b[39;00m warn \u001b[38;5;129;01min\u001b[39;00m warn_list:\n\u001b[0;32m     17\u001b[0m         logging\u001b[38;5;241m.\u001b[39mwarning(warn\u001b[38;5;241m.\u001b[39mmessage)\n",
      "File \u001b[1;32m~\\anaconda3\\lib\\site-packages\\scalecast\\Forecaster.py:331\u001b[0m, in \u001b[0;36mForecaster._forecast_sklearn\u001b[1;34m(self, fcster, dynamic_testing, Xvars, normalizer, **kwargs)\u001b[0m\n\u001b[0;32m    328\u001b[0m \u001b[38;5;28mself\u001b[39m\u001b[38;5;241m.\u001b[39mscaler \u001b[38;5;241m=\u001b[39m \u001b[38;5;28mself\u001b[39m\u001b[38;5;241m.\u001b[39m_fit_normalizer(current_X, normalizer)\n\u001b[0;32m    329\u001b[0m \u001b[38;5;28mself\u001b[39m\u001b[38;5;241m.\u001b[39mXvars \u001b[38;5;241m=\u001b[39m Xvars\n\u001b[1;32m--> 331\u001b[0m preds \u001b[38;5;241m=\u001b[39m \u001b[43mevaluate_model\u001b[49m\u001b[43m(\u001b[49m\n\u001b[0;32m    332\u001b[0m \u001b[43m    \u001b[49m\u001b[43mregr\u001b[49m\u001b[43m \u001b[49m\u001b[38;5;241;43m=\u001b[39;49m\u001b[43m \u001b[49m\u001b[38;5;28;43mself\u001b[39;49m\u001b[38;5;241;43m.\u001b[39;49m\u001b[43mregr\u001b[49m\u001b[43m,\u001b[49m\n\u001b[0;32m    333\u001b[0m \u001b[43m    \u001b[49m\u001b[43msteps\u001b[49m\u001b[43m \u001b[49m\u001b[38;5;241;43m=\u001b[39;49m\u001b[43m \u001b[49m\u001b[43msteps\u001b[49m\u001b[43m,\u001b[49m\n\u001b[0;32m    334\u001b[0m \u001b[43m    \u001b[49m\u001b[43my\u001b[49m\u001b[43m \u001b[49m\u001b[38;5;241;43m=\u001b[39;49m\u001b[43m \u001b[49m\u001b[43my\u001b[49m\u001b[43m,\u001b[49m\n\u001b[0;32m    335\u001b[0m \u001b[43m    \u001b[49m\u001b[43mcurrent_X\u001b[49m\u001b[43m \u001b[49m\u001b[38;5;241;43m=\u001b[39;49m\u001b[43m \u001b[49m\u001b[43mcurrent_X\u001b[49m\u001b[43m,\u001b[49m\n\u001b[0;32m    336\u001b[0m \u001b[43m    \u001b[49m\u001b[43mfuture_X\u001b[49m\u001b[43m \u001b[49m\u001b[38;5;241;43m=\u001b[39;49m\u001b[43m \u001b[49m\u001b[43mfuture_X\u001b[49m\u001b[43m,\u001b[49m\n\u001b[0;32m    337\u001b[0m \u001b[43m    \u001b[49m\u001b[43mscaler\u001b[49m\u001b[43m \u001b[49m\u001b[38;5;241;43m=\u001b[39;49m\u001b[43m \u001b[49m\u001b[38;5;28;43mself\u001b[39;49m\u001b[38;5;241;43m.\u001b[39;49m\u001b[43mscaler\u001b[49m\u001b[43m,\u001b[49m\n\u001b[0;32m    338\u001b[0m \u001b[43m    \u001b[49m\u001b[43mdynamic_testing\u001b[49m\u001b[43m \u001b[49m\u001b[38;5;241;43m=\u001b[39;49m\u001b[43m \u001b[49m\u001b[43mdynamic_testing\u001b[49m\u001b[43m,\u001b[49m\n\u001b[0;32m    339\u001b[0m \u001b[43m    \u001b[49m\u001b[43mXvars\u001b[49m\u001b[43m \u001b[49m\u001b[38;5;241;43m=\u001b[39;49m\u001b[43m \u001b[49m\u001b[38;5;28;43mself\u001b[39;49m\u001b[38;5;241;43m.\u001b[39;49m\u001b[43mXvars\u001b[49m\u001b[43m,\u001b[49m\n\u001b[0;32m    340\u001b[0m \u001b[43m\u001b[49m\u001b[43m)\u001b[49m\n\u001b[0;32m    342\u001b[0m \u001b[38;5;28mself\u001b[39m\u001b[38;5;241m.\u001b[39mfitted_values \u001b[38;5;241m=\u001b[39m \u001b[38;5;28mlist\u001b[39m(\u001b[38;5;28mself\u001b[39m\u001b[38;5;241m.\u001b[39mregr\u001b[38;5;241m.\u001b[39mpredict(\u001b[38;5;28mself\u001b[39m\u001b[38;5;241m.\u001b[39mX)) \u001b[38;5;28;01mif\u001b[39;00m return_fitted \u001b[38;5;28;01melse\u001b[39;00m []\n\u001b[0;32m    343\u001b[0m \u001b[38;5;28;01mreturn\u001b[39;00m preds\n",
      "File \u001b[1;32m~\\anaconda3\\lib\\site-packages\\scalecast\\Forecaster.py:265\u001b[0m, in \u001b[0;36mForecaster._forecast_sklearn.<locals>.evaluate_model\u001b[1;34m(regr, steps, y, scaler, current_X, future_X, dynamic_testing, Xvars)\u001b[0m\n\u001b[0;32m    263\u001b[0m X \u001b[38;5;241m=\u001b[39m \u001b[38;5;28mself\u001b[39m\u001b[38;5;241m.\u001b[39m_scale(scaler, current_X)\n\u001b[0;32m    264\u001b[0m \u001b[38;5;28mself\u001b[39m\u001b[38;5;241m.\u001b[39mX \u001b[38;5;241m=\u001b[39m X \u001b[38;5;66;03m# for feature importance setting\u001b[39;00m\n\u001b[1;32m--> 265\u001b[0m \u001b[43mregr\u001b[49m\u001b[38;5;241;43m.\u001b[39;49m\u001b[43mfit\u001b[49m\u001b[43m(\u001b[49m\u001b[43mX\u001b[49m\u001b[43m,\u001b[49m\u001b[43m \u001b[49m\u001b[43my\u001b[49m\u001b[43m)\u001b[49m\n\u001b[0;32m    267\u001b[0m has_ars \u001b[38;5;241m=\u001b[39m \u001b[38;5;28mlen\u001b[39m([x \u001b[38;5;28;01mfor\u001b[39;00m x \u001b[38;5;129;01min\u001b[39;00m Xvars \u001b[38;5;28;01mif\u001b[39;00m x\u001b[38;5;241m.\u001b[39mstartswith(\u001b[38;5;124m'\u001b[39m\u001b[38;5;124mAR\u001b[39m\u001b[38;5;124m'\u001b[39m)]) \u001b[38;5;241m>\u001b[39m \u001b[38;5;241m0\u001b[39m\n\u001b[0;32m    269\u001b[0m \u001b[38;5;28;01mif\u001b[39;00m has_ars:\n",
      "File \u001b[1;32m~\\anaconda3\\lib\\site-packages\\xgboost\\core.py:620\u001b[0m, in \u001b[0;36mrequire_keyword_args.<locals>.throw_if.<locals>.inner_f\u001b[1;34m(*args, **kwargs)\u001b[0m\n\u001b[0;32m    618\u001b[0m \u001b[38;5;28;01mfor\u001b[39;00m k, arg \u001b[38;5;129;01min\u001b[39;00m \u001b[38;5;28mzip\u001b[39m(sig\u001b[38;5;241m.\u001b[39mparameters, args):\n\u001b[0;32m    619\u001b[0m     kwargs[k] \u001b[38;5;241m=\u001b[39m arg\n\u001b[1;32m--> 620\u001b[0m \u001b[38;5;28;01mreturn\u001b[39;00m \u001b[43mfunc\u001b[49m\u001b[43m(\u001b[49m\u001b[38;5;241;43m*\u001b[39;49m\u001b[38;5;241;43m*\u001b[39;49m\u001b[43mkwargs\u001b[49m\u001b[43m)\u001b[49m\n",
      "File \u001b[1;32m~\\anaconda3\\lib\\site-packages\\xgboost\\sklearn.py:1025\u001b[0m, in \u001b[0;36mXGBModel.fit\u001b[1;34m(self, X, y, sample_weight, base_margin, eval_set, eval_metric, early_stopping_rounds, verbose, xgb_model, sample_weight_eval_set, base_margin_eval_set, feature_weights, callbacks)\u001b[0m\n\u001b[0;32m   1014\u001b[0m     obj \u001b[38;5;241m=\u001b[39m \u001b[38;5;28;01mNone\u001b[39;00m\n\u001b[0;32m   1016\u001b[0m (\n\u001b[0;32m   1017\u001b[0m     model,\n\u001b[0;32m   1018\u001b[0m     metric,\n\u001b[1;32m   (...)\u001b[0m\n\u001b[0;32m   1023\u001b[0m     xgb_model, eval_metric, params, early_stopping_rounds, callbacks\n\u001b[0;32m   1024\u001b[0m )\n\u001b[1;32m-> 1025\u001b[0m \u001b[38;5;28mself\u001b[39m\u001b[38;5;241m.\u001b[39m_Booster \u001b[38;5;241m=\u001b[39m \u001b[43mtrain\u001b[49m\u001b[43m(\u001b[49m\n\u001b[0;32m   1026\u001b[0m \u001b[43m    \u001b[49m\u001b[43mparams\u001b[49m\u001b[43m,\u001b[49m\n\u001b[0;32m   1027\u001b[0m \u001b[43m    \u001b[49m\u001b[43mtrain_dmatrix\u001b[49m\u001b[43m,\u001b[49m\n\u001b[0;32m   1028\u001b[0m \u001b[43m    \u001b[49m\u001b[38;5;28;43mself\u001b[39;49m\u001b[38;5;241;43m.\u001b[39;49m\u001b[43mget_num_boosting_rounds\u001b[49m\u001b[43m(\u001b[49m\u001b[43m)\u001b[49m\u001b[43m,\u001b[49m\n\u001b[0;32m   1029\u001b[0m \u001b[43m    \u001b[49m\u001b[43mevals\u001b[49m\u001b[38;5;241;43m=\u001b[39;49m\u001b[43mevals\u001b[49m\u001b[43m,\u001b[49m\n\u001b[0;32m   1030\u001b[0m \u001b[43m    \u001b[49m\u001b[43mearly_stopping_rounds\u001b[49m\u001b[38;5;241;43m=\u001b[39;49m\u001b[43mearly_stopping_rounds\u001b[49m\u001b[43m,\u001b[49m\n\u001b[0;32m   1031\u001b[0m \u001b[43m    \u001b[49m\u001b[43mevals_result\u001b[49m\u001b[38;5;241;43m=\u001b[39;49m\u001b[43mevals_result\u001b[49m\u001b[43m,\u001b[49m\n\u001b[0;32m   1032\u001b[0m \u001b[43m    \u001b[49m\u001b[43mobj\u001b[49m\u001b[38;5;241;43m=\u001b[39;49m\u001b[43mobj\u001b[49m\u001b[43m,\u001b[49m\n\u001b[0;32m   1033\u001b[0m \u001b[43m    \u001b[49m\u001b[43mcustom_metric\u001b[49m\u001b[38;5;241;43m=\u001b[39;49m\u001b[43mmetric\u001b[49m\u001b[43m,\u001b[49m\n\u001b[0;32m   1034\u001b[0m \u001b[43m    \u001b[49m\u001b[43mverbose_eval\u001b[49m\u001b[38;5;241;43m=\u001b[39;49m\u001b[43mverbose\u001b[49m\u001b[43m,\u001b[49m\n\u001b[0;32m   1035\u001b[0m \u001b[43m    \u001b[49m\u001b[43mxgb_model\u001b[49m\u001b[38;5;241;43m=\u001b[39;49m\u001b[43mmodel\u001b[49m\u001b[43m,\u001b[49m\n\u001b[0;32m   1036\u001b[0m \u001b[43m    \u001b[49m\u001b[43mcallbacks\u001b[49m\u001b[38;5;241;43m=\u001b[39;49m\u001b[43mcallbacks\u001b[49m\u001b[43m,\u001b[49m\n\u001b[0;32m   1037\u001b[0m \u001b[43m\u001b[49m\u001b[43m)\u001b[49m\n\u001b[0;32m   1039\u001b[0m \u001b[38;5;28mself\u001b[39m\u001b[38;5;241m.\u001b[39m_set_evaluation_result(evals_result)\n\u001b[0;32m   1040\u001b[0m \u001b[38;5;28;01mreturn\u001b[39;00m \u001b[38;5;28mself\u001b[39m\n",
      "File \u001b[1;32m~\\anaconda3\\lib\\site-packages\\xgboost\\core.py:620\u001b[0m, in \u001b[0;36mrequire_keyword_args.<locals>.throw_if.<locals>.inner_f\u001b[1;34m(*args, **kwargs)\u001b[0m\n\u001b[0;32m    618\u001b[0m \u001b[38;5;28;01mfor\u001b[39;00m k, arg \u001b[38;5;129;01min\u001b[39;00m \u001b[38;5;28mzip\u001b[39m(sig\u001b[38;5;241m.\u001b[39mparameters, args):\n\u001b[0;32m    619\u001b[0m     kwargs[k] \u001b[38;5;241m=\u001b[39m arg\n\u001b[1;32m--> 620\u001b[0m \u001b[38;5;28;01mreturn\u001b[39;00m \u001b[43mfunc\u001b[49m\u001b[43m(\u001b[49m\u001b[38;5;241;43m*\u001b[39;49m\u001b[38;5;241;43m*\u001b[39;49m\u001b[43mkwargs\u001b[49m\u001b[43m)\u001b[49m\n",
      "File \u001b[1;32m~\\anaconda3\\lib\\site-packages\\xgboost\\training.py:185\u001b[0m, in \u001b[0;36mtrain\u001b[1;34m(params, dtrain, num_boost_round, evals, obj, feval, maximize, early_stopping_rounds, evals_result, verbose_eval, xgb_model, callbacks, custom_metric)\u001b[0m\n\u001b[0;32m    183\u001b[0m \u001b[38;5;28;01mif\u001b[39;00m cb_container\u001b[38;5;241m.\u001b[39mbefore_iteration(bst, i, dtrain, evals):\n\u001b[0;32m    184\u001b[0m     \u001b[38;5;28;01mbreak\u001b[39;00m\n\u001b[1;32m--> 185\u001b[0m \u001b[43mbst\u001b[49m\u001b[38;5;241;43m.\u001b[39;49m\u001b[43mupdate\u001b[49m\u001b[43m(\u001b[49m\u001b[43mdtrain\u001b[49m\u001b[43m,\u001b[49m\u001b[43m \u001b[49m\u001b[43mi\u001b[49m\u001b[43m,\u001b[49m\u001b[43m \u001b[49m\u001b[43mobj\u001b[49m\u001b[43m)\u001b[49m\n\u001b[0;32m    186\u001b[0m \u001b[38;5;28;01mif\u001b[39;00m cb_container\u001b[38;5;241m.\u001b[39mafter_iteration(bst, i, dtrain, evals):\n\u001b[0;32m    187\u001b[0m     \u001b[38;5;28;01mbreak\u001b[39;00m\n",
      "File \u001b[1;32m~\\anaconda3\\lib\\site-packages\\xgboost\\core.py:1918\u001b[0m, in \u001b[0;36mBooster.update\u001b[1;34m(self, dtrain, iteration, fobj)\u001b[0m\n\u001b[0;32m   1915\u001b[0m \u001b[38;5;28mself\u001b[39m\u001b[38;5;241m.\u001b[39m_validate_dmatrix_features(dtrain)\n\u001b[0;32m   1917\u001b[0m \u001b[38;5;28;01mif\u001b[39;00m fobj \u001b[38;5;129;01mis\u001b[39;00m \u001b[38;5;28;01mNone\u001b[39;00m:\n\u001b[1;32m-> 1918\u001b[0m     _check_call(\u001b[43m_LIB\u001b[49m\u001b[38;5;241;43m.\u001b[39;49m\u001b[43mXGBoosterUpdateOneIter\u001b[49m\u001b[43m(\u001b[49m\u001b[38;5;28;43mself\u001b[39;49m\u001b[38;5;241;43m.\u001b[39;49m\u001b[43mhandle\u001b[49m\u001b[43m,\u001b[49m\n\u001b[0;32m   1919\u001b[0m \u001b[43m                                            \u001b[49m\u001b[43mctypes\u001b[49m\u001b[38;5;241;43m.\u001b[39;49m\u001b[43mc_int\u001b[49m\u001b[43m(\u001b[49m\u001b[43miteration\u001b[49m\u001b[43m)\u001b[49m\u001b[43m,\u001b[49m\n\u001b[0;32m   1920\u001b[0m \u001b[43m                                            \u001b[49m\u001b[43mdtrain\u001b[49m\u001b[38;5;241;43m.\u001b[39;49m\u001b[43mhandle\u001b[49m\u001b[43m)\u001b[49m)\n\u001b[0;32m   1921\u001b[0m \u001b[38;5;28;01melse\u001b[39;00m:\n\u001b[0;32m   1922\u001b[0m     pred \u001b[38;5;241m=\u001b[39m \u001b[38;5;28mself\u001b[39m\u001b[38;5;241m.\u001b[39mpredict(dtrain, output_margin\u001b[38;5;241m=\u001b[39m\u001b[38;5;28;01mTrue\u001b[39;00m, training\u001b[38;5;241m=\u001b[39m\u001b[38;5;28;01mTrue\u001b[39;00m)\n",
      "\u001b[1;31mKeyboardInterrupt\u001b[0m: "
     ]
    }
   ],
   "source": [
    "forecaster_estimators = ['arima', 'svr', 'xgboost', 'catboost', 'rnn', 'lstm']  # models that will by predicted by Forecaster\n",
    "for estimator in forecaster_estimators:\n",
    "    f_model.set_estimator(estimator)\n",
    "    f_model.tune()  # find optimal hyperparameters for selected method\n",
    "    f_model.auto_forecast()  # predict future values using hyperparameters from the previous step\n",
    "    print(f'Hyperparameter values for {estimator}:')\n",
    "    print(f_model.best_params)  # print the most optimal hyperparameters"
   ]
  },
  {
   "cell_type": "code",
   "execution_count": null,
   "metadata": {},
   "outputs": [],
   "source": []
  },
  {
   "cell_type": "code",
   "execution_count": null,
   "metadata": {},
   "outputs": [],
   "source": []
  },
  {
   "cell_type": "code",
   "execution_count": null,
   "metadata": {
    "scrolled": false
   },
   "outputs": [],
   "source": [
    "f_model.plot()  # plots future values\n",
    "plt.title(\"Forecasts by multiple models\")\n",
    "plt.xlabel(\"date\")\n",
    "plt.ylabel(\"number of accidents\")\n",
    "f_model.plot_test_set()  # plots values from test set\n",
    "plt.title(\"Forecasts by multiple models\")\n",
    "plt.xlabel(\"date\")\n",
    "plt.ylabel(\"number of accidents\")"
   ]
  },
  {
   "cell_type": "code",
   "execution_count": null,
   "metadata": {
    "scrolled": false
   },
   "outputs": [],
   "source": [
    "# add forecasts from models in Forecaster to predict_df\n",
    "for method in forecaster_estimators:\n",
    "    result = f_model.export_fitted_vals(method)\n",
    "    predict_df[method] = [None] * len(dataset_train) + list(result.tail(periods_to_predict + periods_to_predict)['FittedVals'])"
   ]
  },
  {
   "cell_type": "code",
   "execution_count": null,
   "metadata": {},
   "outputs": [],
   "source": []
  },
  {
   "cell_type": "code",
   "execution_count": 12,
   "metadata": {},
   "outputs": [],
   "source": [
    "from sklearn.ensemble import RandomForestRegressor\n",
    "from sklearn.pipeline import make_pipeline\n",
    "from sklearn.preprocessing import StandardScaler\n",
    "from sklearn.model_selection import train_test_split\n",
    "from sklearn_genetic import GASearchCV\n",
    "from sklearn_genetic import ExponentialAdapter\n",
    "from sklearn_genetic.space import Continuous, Categorical, Integer\n",
    "from sklearn_genetic.plots import plot_fitness_evolution\n",
    "from sklearn.metrics import accuracy_score"
   ]
  },
  {
   "cell_type": "code",
   "execution_count": 13,
   "metadata": {},
   "outputs": [
    {
     "data": {
      "text/html": [
       "<div>\n",
       "<style scoped>\n",
       "    .dataframe tbody tr th:only-of-type {\n",
       "        vertical-align: middle;\n",
       "    }\n",
       "\n",
       "    .dataframe tbody tr th {\n",
       "        vertical-align: top;\n",
       "    }\n",
       "\n",
       "    .dataframe thead th {\n",
       "        text-align: right;\n",
       "    }\n",
       "</style>\n",
       "<table border=\"1\" class=\"dataframe\">\n",
       "  <thead>\n",
       "    <tr style=\"text-align: right;\">\n",
       "      <th></th>\n",
       "      <th>ds</th>\n",
       "      <th>y</th>\n",
       "      <th>day</th>\n",
       "      <th>month</th>\n",
       "      <th>year</th>\n",
       "    </tr>\n",
       "  </thead>\n",
       "  <tbody>\n",
       "    <tr>\n",
       "      <th>0</th>\n",
       "      <td>2016-01-01</td>\n",
       "      <td>450</td>\n",
       "      <td>1</td>\n",
       "      <td>1</td>\n",
       "      <td>2016</td>\n",
       "    </tr>\n",
       "    <tr>\n",
       "      <th>1</th>\n",
       "      <td>2016-01-02</td>\n",
       "      <td>148</td>\n",
       "      <td>2</td>\n",
       "      <td>1</td>\n",
       "      <td>2016</td>\n",
       "    </tr>\n",
       "    <tr>\n",
       "      <th>2</th>\n",
       "      <td>2016-01-03</td>\n",
       "      <td>99</td>\n",
       "      <td>3</td>\n",
       "      <td>1</td>\n",
       "      <td>2016</td>\n",
       "    </tr>\n",
       "    <tr>\n",
       "      <th>3</th>\n",
       "      <td>2016-01-04</td>\n",
       "      <td>344</td>\n",
       "      <td>4</td>\n",
       "      <td>1</td>\n",
       "      <td>2016</td>\n",
       "    </tr>\n",
       "    <tr>\n",
       "      <th>4</th>\n",
       "      <td>2016-01-05</td>\n",
       "      <td>271</td>\n",
       "      <td>5</td>\n",
       "      <td>1</td>\n",
       "      <td>2016</td>\n",
       "    </tr>\n",
       "    <tr>\n",
       "      <th>...</th>\n",
       "      <td>...</td>\n",
       "      <td>...</td>\n",
       "      <td>...</td>\n",
       "      <td>...</td>\n",
       "      <td>...</td>\n",
       "    </tr>\n",
       "    <tr>\n",
       "      <th>2552</th>\n",
       "      <td>2022-12-27</td>\n",
       "      <td>169</td>\n",
       "      <td>27</td>\n",
       "      <td>12</td>\n",
       "      <td>2022</td>\n",
       "    </tr>\n",
       "    <tr>\n",
       "      <th>2553</th>\n",
       "      <td>2022-12-28</td>\n",
       "      <td>157</td>\n",
       "      <td>28</td>\n",
       "      <td>12</td>\n",
       "      <td>2022</td>\n",
       "    </tr>\n",
       "    <tr>\n",
       "      <th>2554</th>\n",
       "      <td>2022-12-29</td>\n",
       "      <td>151</td>\n",
       "      <td>29</td>\n",
       "      <td>12</td>\n",
       "      <td>2022</td>\n",
       "    </tr>\n",
       "    <tr>\n",
       "      <th>2555</th>\n",
       "      <td>2022-12-30</td>\n",
       "      <td>157</td>\n",
       "      <td>30</td>\n",
       "      <td>12</td>\n",
       "      <td>2022</td>\n",
       "    </tr>\n",
       "    <tr>\n",
       "      <th>2556</th>\n",
       "      <td>2022-12-31</td>\n",
       "      <td>111</td>\n",
       "      <td>31</td>\n",
       "      <td>12</td>\n",
       "      <td>2022</td>\n",
       "    </tr>\n",
       "  </tbody>\n",
       "</table>\n",
       "<p>2557 rows × 5 columns</p>\n",
       "</div>"
      ],
      "text/plain": [
       "             ds    y  day  month  year\n",
       "0    2016-01-01  450    1      1  2016\n",
       "1    2016-01-02  148    2      1  2016\n",
       "2    2016-01-03   99    3      1  2016\n",
       "3    2016-01-04  344    4      1  2016\n",
       "4    2016-01-05  271    5      1  2016\n",
       "...         ...  ...  ...    ...   ...\n",
       "2552 2022-12-27  169   27     12  2022\n",
       "2553 2022-12-28  157   28     12  2022\n",
       "2554 2022-12-29  151   29     12  2022\n",
       "2555 2022-12-30  157   30     12  2022\n",
       "2556 2022-12-31  111   31     12  2022\n",
       "\n",
       "[2557 rows x 5 columns]"
      ]
     },
     "execution_count": 13,
     "metadata": {},
     "output_type": "execute_result"
    }
   ],
   "source": [
    "# split datetime to day, month, and year parts for models with GA\n",
    "dataset_ga = dataset_df\n",
    "dataset_ga['day'] = dataset_df['ds'].dt.day\n",
    "dataset_ga['month'] = dataset_df['ds'].dt.month\n",
    "dataset_ga['year'] = dataset_df['ds'].dt.year\n",
    "dataset_ga"
   ]
  },
  {
   "cell_type": "code",
   "execution_count": 15,
   "metadata": {},
   "outputs": [
    {
     "data": {
      "text/plain": [
       "((2192, 3), (365, 3), (2192,), (365,))"
      ]
     },
     "execution_count": 15,
     "metadata": {},
     "output_type": "execute_result"
    }
   ],
   "source": [
    "# split data to training and testing sets\n",
    "X = dataset_ga[['day', 'month', 'year']]\n",
    "y = dataset_ga['y']\n",
    "X_train_ga = X[:len(X) - periods_to_predict]\n",
    "X_test_ga = X[len(X) - periods_to_predict:]\n",
    "y_train_ga = y[:len(y) - periods_to_predict]  # test set = observations from the last year\n",
    "y_test_ga = y[len(y) - periods_to_predict:]\n",
    "X_train_ga.shape, X_test_ga.shape, y_train_ga.shape, y_test_ga.shape"
   ]
  },
  {
   "cell_type": "code",
   "execution_count": null,
   "metadata": {},
   "outputs": [],
   "source": []
  },
  {
   "cell_type": "code",
   "execution_count": 16,
   "metadata": {},
   "outputs": [],
   "source": [
    "rf = RandomForestRegressor(random_state=111)"
   ]
  },
  {
   "cell_type": "code",
   "execution_count": null,
   "metadata": {},
   "outputs": [],
   "source": [
    "# adapters used in GA Search\n",
    "mutation_adapter = ExponentialAdapter(initial_value=0.9, end_value=0.1, adaptive_rate=0.1)\n",
    "crossover_adapter = ExponentialAdapter(initial_value=0.1, end_value=0.9, adaptive_rate=0.1)"
   ]
  },
  {
   "cell_type": "code",
   "execution_count": null,
   "metadata": {},
   "outputs": [],
   "source": [
    "# grid with attributes for random forest, for genetic algorithm\n",
    "rf_grid_ga = {\n",
    "    'n_estimators': Integer(100, 600),\n",
    "    'max_features': Categorical(['auto', 'sqrt', 'log2']),\n",
    "    'max_depth': Integer(2,20),\n",
    "    'criterion': Categorical(['poisson', 'squared_error', 'absolute_error', 'friedman_mse']),\n",
    "    'min_samples_split': Continuous(0.1, 0.9),\n",
    "    'bootstrap': Categorical([True, False])\n",
    "}"
   ]
  },
  {
   "cell_type": "code",
   "execution_count": null,
   "metadata": {},
   "outputs": [],
   "source": [
    "rf_estimator_ga = GASearchCV(estimator=rf,\n",
    "                             scoring='r2',\n",
    "                             population_size=100,\n",
    "                             generations=12,\n",
    "                             mutation_probability=mutation_adapter,\n",
    "                             crossover_probability=crossover_adapter,\n",
    "                             param_grid=rf_grid_ga,\n",
    "                             n_jobs=-1,\n",
    "                             error_score='raise'\n",
    "                            )"
   ]
  },
  {
   "cell_type": "code",
   "execution_count": null,
   "metadata": {},
   "outputs": [],
   "source": [
    "rf_estimator_ga.fit(X_train_ga, y_train_ga)  # fit the training data"
   ]
  },
  {
   "cell_type": "code",
   "execution_count": null,
   "metadata": {},
   "outputs": [],
   "source": [
    "rf_estimator_ga.best_params_"
   ]
  },
  {
   "cell_type": "code",
   "execution_count": 20,
   "metadata": {},
   "outputs": [],
   "source": [
    "# prepare testing data with future dates in the length of argument months_to_predict\n",
    "last_date = dataset_ga.ds.max()\n",
    "future_dates = pd.date_range(start=last_date, periods=periods_to_predict + 1, freq='1d')\n",
    "new_rows = pd.DataFrame(future_dates, columns=['ds'])\n",
    "new_rows = new_rows.iloc[1:]\n",
    "new_rows['day'] = new_rows['ds'].dt.day\n",
    "new_rows['month'] = new_rows['ds'].dt.month\n",
    "new_rows['year'] = new_rows['ds'].dt.year\n",
    "X_test_ga = pd.concat([X_test_ga, new_rows])"
   ]
  },
  {
   "cell_type": "code",
   "execution_count": 21,
   "metadata": {},
   "outputs": [
    {
     "data": {
      "text/html": [
       "<div>\n",
       "<style scoped>\n",
       "    .dataframe tbody tr th:only-of-type {\n",
       "        vertical-align: middle;\n",
       "    }\n",
       "\n",
       "    .dataframe tbody tr th {\n",
       "        vertical-align: top;\n",
       "    }\n",
       "\n",
       "    .dataframe thead th {\n",
       "        text-align: right;\n",
       "    }\n",
       "</style>\n",
       "<table border=\"1\" class=\"dataframe\">\n",
       "  <thead>\n",
       "    <tr style=\"text-align: right;\">\n",
       "      <th></th>\n",
       "      <th>day</th>\n",
       "      <th>month</th>\n",
       "      <th>year</th>\n",
       "    </tr>\n",
       "  </thead>\n",
       "  <tbody>\n",
       "    <tr>\n",
       "      <th>2192</th>\n",
       "      <td>1</td>\n",
       "      <td>1</td>\n",
       "      <td>2022</td>\n",
       "    </tr>\n",
       "    <tr>\n",
       "      <th>2193</th>\n",
       "      <td>2</td>\n",
       "      <td>1</td>\n",
       "      <td>2022</td>\n",
       "    </tr>\n",
       "    <tr>\n",
       "      <th>2194</th>\n",
       "      <td>3</td>\n",
       "      <td>1</td>\n",
       "      <td>2022</td>\n",
       "    </tr>\n",
       "    <tr>\n",
       "      <th>2195</th>\n",
       "      <td>4</td>\n",
       "      <td>1</td>\n",
       "      <td>2022</td>\n",
       "    </tr>\n",
       "    <tr>\n",
       "      <th>2196</th>\n",
       "      <td>5</td>\n",
       "      <td>1</td>\n",
       "      <td>2022</td>\n",
       "    </tr>\n",
       "    <tr>\n",
       "      <th>...</th>\n",
       "      <td>...</td>\n",
       "      <td>...</td>\n",
       "      <td>...</td>\n",
       "    </tr>\n",
       "    <tr>\n",
       "      <th>361</th>\n",
       "      <td>27</td>\n",
       "      <td>12</td>\n",
       "      <td>2023</td>\n",
       "    </tr>\n",
       "    <tr>\n",
       "      <th>362</th>\n",
       "      <td>28</td>\n",
       "      <td>12</td>\n",
       "      <td>2023</td>\n",
       "    </tr>\n",
       "    <tr>\n",
       "      <th>363</th>\n",
       "      <td>29</td>\n",
       "      <td>12</td>\n",
       "      <td>2023</td>\n",
       "    </tr>\n",
       "    <tr>\n",
       "      <th>364</th>\n",
       "      <td>30</td>\n",
       "      <td>12</td>\n",
       "      <td>2023</td>\n",
       "    </tr>\n",
       "    <tr>\n",
       "      <th>365</th>\n",
       "      <td>31</td>\n",
       "      <td>12</td>\n",
       "      <td>2023</td>\n",
       "    </tr>\n",
       "  </tbody>\n",
       "</table>\n",
       "<p>1095 rows × 3 columns</p>\n",
       "</div>"
      ],
      "text/plain": [
       "      day  month  year\n",
       "2192    1      1  2022\n",
       "2193    2      1  2022\n",
       "2194    3      1  2022\n",
       "2195    4      1  2022\n",
       "2196    5      1  2022\n",
       "...   ...    ...   ...\n",
       "361    27     12  2023\n",
       "362    28     12  2023\n",
       "363    29     12  2023\n",
       "364    30     12  2023\n",
       "365    31     12  2023\n",
       "\n",
       "[1095 rows x 3 columns]"
      ]
     },
     "execution_count": 21,
     "metadata": {},
     "output_type": "execute_result"
    }
   ],
   "source": [
    "X_test_ga = X_test_ga[['day', 'month', 'year']]\n",
    "X_test_ga"
   ]
  },
  {
   "cell_type": "code",
   "execution_count": null,
   "metadata": {},
   "outputs": [],
   "source": []
  },
  {
   "cell_type": "code",
   "execution_count": null,
   "metadata": {},
   "outputs": [],
   "source": [
    "y_predict_rf_ga = rf_estimator_ga.predict(X_test_ga)  # predict future dates"
   ]
  },
  {
   "cell_type": "code",
   "execution_count": null,
   "metadata": {},
   "outputs": [],
   "source": [
    "y_predict_rf_ga"
   ]
  },
  {
   "cell_type": "code",
   "execution_count": null,
   "metadata": {},
   "outputs": [],
   "source": [
    "plot_fitness_evolution(rf_estimator_ga)"
   ]
  },
  {
   "cell_type": "code",
   "execution_count": 22,
   "metadata": {},
   "outputs": [],
   "source": [
    "# prepare dataframe with forecast values (predict_df will contain all hyperparameter optimization techniques)\n",
    "rf_predict_df = dataset_df[['ds']]\n",
    "\n",
    "last_date = rf_predict_df.ds.max()\n",
    "future_dates = pd.date_range(start=last_date, periods=periods_to_predict + 1, freq='1d')\n",
    "new_rows = pd.DataFrame(future_dates, columns=['ds'])\n",
    "new_rows = new_rows.iloc[1:]\n",
    "\n",
    "rf_predict_df = pd.concat([rf_predict_df, new_rows])\n",
    "\n",
    "rf_predict_df['original'] = list(y_train_ga) + list(y_test_ga) + [None] * periods_to_predict\n",
    "rf_predict_df['predicted - GA'] = [None] * len(X_train_ga) + list(y_predict_rf_ga)\n",
    "rf_predict_df.set_index('ds', inplace=True)"
   ]
  },
  {
   "cell_type": "code",
   "execution_count": 23,
   "metadata": {},
   "outputs": [
    {
     "data": {
      "text/plain": [
       "Text(0, 0.5, 'number of accidents')"
      ]
     },
     "execution_count": 23,
     "metadata": {},
     "output_type": "execute_result"
    },
    {
     "data": {
      "image/png": "[encoded data removed]",
      "text/plain": [
       "<Figure size 640x480 with 1 Axes>"
      ]
     },
     "metadata": {},
     "output_type": "display_data"
    }
   ],
   "source": [
    "# plot results with random forest and G\n",
    "rf_predict_df.plot()\n",
    "plt.title(\"Random forest prediction\")\n",
    "plt.xlabel(\"month\")\n",
    "plt.ylabel(\"number of accidents\")"
   ]
  },
  {
   "cell_type": "code",
   "execution_count": null,
   "metadata": {},
   "outputs": [],
   "source": [
    "# create grid for randomized searach cv\n",
    "rf_grid_randomized = {\n",
    "    'n_estimators': [100, 600],\n",
    "    'max_features': ['auto', 'sqrt', 'log2'],\n",
    "    'max_depth': [2, 20],\n",
    "    'criterion': ['poisson', 'squared_error', 'absolute_error', 'friedman_mse'],\n",
    "    'min_samples_split': [0.1, 0.9],\n",
    "    'bootstrap': [True, False]\n",
    "}"
   ]
  },
  {
   "cell_type": "code",
   "execution_count": null,
   "metadata": {},
   "outputs": [],
   "source": [
    "from sklearn.model_selection import RandomizedSearchCV"
   ]
  },
  {
   "cell_type": "code",
   "execution_count": null,
   "metadata": {},
   "outputs": [],
   "source": [
    "rf = RandomForestRegressor(random_state=111)\n",
    "rf_estimator_randomized = RandomizedSearchCV(estimator=rf,\n",
    "                                             scoring='r2',\n",
    "                                             param_distributions = rf_grid_randomized,\n",
    "                                             n_jobs=-1,\n",
    "                                             error_score='raise',\n",
    "                                             random_state=111\n",
    "                                            )"
   ]
  },
  {
   "cell_type": "code",
   "execution_count": null,
   "metadata": {},
   "outputs": [],
   "source": [
    "rf_estimator_randomized.fit(X_train_ga, y_train_ga)"
   ]
  },
  {
   "cell_type": "code",
   "execution_count": null,
   "metadata": {},
   "outputs": [],
   "source": [
    "rf_estimator_randomized.best_params_"
   ]
  },
  {
   "cell_type": "code",
   "execution_count": null,
   "metadata": {},
   "outputs": [],
   "source": [
    "y_predict_rf_randomized = rf_estimator_randomized.predict(X_test_ga)"
   ]
  },
  {
   "cell_type": "code",
   "execution_count": null,
   "metadata": {},
   "outputs": [],
   "source": [
    "y_predict_rf_randomized"
   ]
  },
  {
   "cell_type": "code",
   "execution_count": null,
   "metadata": {},
   "outputs": [],
   "source": [
    "rf_predict_df['predicted - randomized'] = [None] * len(X_train_ga) + list(y_predict_rf_randomized)"
   ]
  },
  {
   "cell_type": "code",
   "execution_count": null,
   "metadata": {},
   "outputs": [],
   "source": [
    "# plot results with random forest and randomized search cv\n",
    "rf_predict_df[['original', 'predicted - randomized']].plot()\n",
    "plt.title(\"Random forest prediction\")\n",
    "plt.xlabel(\"month\")\n",
    "plt.ylabel(\"number of accidents\")"
   ]
  },
  {
   "cell_type": "code",
   "execution_count": null,
   "metadata": {},
   "outputs": [],
   "source": [
    "# grid for grid search cv\n",
    "rf_grid_grid = {\n",
    "    'n_estimators': [100, 200, 500],\n",
    "    'max_features': ['auto', 'sqrt', 'log2'],\n",
    "    'max_depth': [2, 10, 20],\n",
    "    'criterion': ['poisson', 'squared_error', 'absolute_error', 'friedman_mse'],\n",
    "    'min_samples_split': [0.1, 0.5, 0.9],\n",
    "    'bootstrap': [True, False]\n",
    "}"
   ]
  },
  {
   "cell_type": "code",
   "execution_count": null,
   "metadata": {},
   "outputs": [],
   "source": [
    "from sklearn.model_selection import GridSearchCV"
   ]
  },
  {
   "cell_type": "code",
   "execution_count": null,
   "metadata": {},
   "outputs": [],
   "source": [
    "from sklearn.model_selection import GridSearchCV\n",
    "rf_estimator_grid = GridSearchCV(estimator=rf,\n",
    "                                 scoring='r2',\n",
    "                                 param_grid = rf_grid_grid,\n",
    "                                 n_jobs=-1,\n",
    "                                 error_score='raise'\n",
    "                                )"
   ]
  },
  {
   "cell_type": "code",
   "execution_count": null,
   "metadata": {},
   "outputs": [],
   "source": [
    "y_predict_rf_grid = rf_estimator_grid.fit(X_train_ga, y_train_ga)"
   ]
  },
  {
   "cell_type": "code",
   "execution_count": null,
   "metadata": {},
   "outputs": [],
   "source": [
    "rf_estimator_grid.best_params_"
   ]
  },
  {
   "cell_type": "code",
   "execution_count": null,
   "metadata": {
    "scrolled": true
   },
   "outputs": [],
   "source": [
    "y_predict_rf_grid = rf_estimator_grid.predict(X_test_ga)"
   ]
  },
  {
   "cell_type": "code",
   "execution_count": null,
   "metadata": {},
   "outputs": [],
   "source": [
    "y_predict_rf_grid"
   ]
  },
  {
   "cell_type": "code",
   "execution_count": null,
   "metadata": {},
   "outputs": [],
   "source": [
    "rf_predict_df['predicted - grid'] = [None] * len(X_train_ga) + list(y_predict_rf_grid)"
   ]
  },
  {
   "cell_type": "code",
   "execution_count": null,
   "metadata": {},
   "outputs": [],
   "source": [
    "# plot results with random forest and grid search cv\n",
    "rf_predict_df[['original', 'predicted - grid']].plot()\n",
    "plt.title(\"Random forest prediction\")\n",
    "plt.xlabel(\"month\")\n",
    "plt.ylabel(\"number of accidents\")"
   ]
  },
  {
   "cell_type": "code",
   "execution_count": null,
   "metadata": {},
   "outputs": [],
   "source": [
    "# r2 score with GA search cv\n",
    "rf_estimator_ga.score(X_test_ga[:periods_to_predict], y_test_ga)"
   ]
  },
  {
   "cell_type": "code",
   "execution_count": null,
   "metadata": {},
   "outputs": [],
   "source": [
    "# r2 score with randomized search cv\n",
    "rf_estimator_randomized.score(X_test_ga[:periods_to_predict], y_test_ga)"
   ]
  },
  {
   "cell_type": "code",
   "execution_count": null,
   "metadata": {},
   "outputs": [],
   "source": [
    "# r2 score with grid search cv\n",
    "rf_estimator_grid.score(X_test_ga[:periods_to_predict], y_test_ga)"
   ]
  },
  {
   "cell_type": "code",
   "execution_count": null,
   "metadata": {},
   "outputs": [],
   "source": [
    "# plot all 3 techniques for random forest on one plot\n",
    "rf_predict_df.plot()\n",
    "plt.title(\"Random Forest\")\n",
    "plt.xlabel(\"date\")\n",
    "plt.ylabel(\"number of accidents\")"
   ]
  },
  {
   "cell_type": "code",
   "execution_count": null,
   "metadata": {},
   "outputs": [],
   "source": [
    "predict_df['random forest + GA'] = list(rf_predict_df['predicted - GA'])\n",
    "predict_df['random forest + randomized'] = list(rf_predict_df['predicted - randomized'])\n",
    "predict_df['random forest + grid'] = list(rf_predict_df['predicted - grid'])\n",
    "\n",
    "predict_df"
   ]
  },
  {
   "cell_type": "code",
   "execution_count": null,
   "metadata": {},
   "outputs": [],
   "source": []
  },
  {
   "cell_type": "code",
   "execution_count": null,
   "metadata": {},
   "outputs": [],
   "source": [
    "# from sklearn.pipeline import Pipeline\n",
    "# from sklearn.preprocessing import MinMaxScaler"
   ]
  },
  {
   "cell_type": "code",
   "execution_count": null,
   "metadata": {},
   "outputs": [],
   "source": [
    "# # pipeline with data scaling and random forest\n",
    "# steps = [\n",
    "#     ('scaler', MinMaxScaler()),  # Data preprocessing step\n",
    "#     ('rf', RandomForestRegressor(random_state=111))  # Random Forest Regressor step\n",
    "# ]"
   ]
  },
  {
   "cell_type": "code",
   "execution_count": null,
   "metadata": {},
   "outputs": [],
   "source": [
    "# pipeline = Pipeline(steps)"
   ]
  },
  {
   "cell_type": "code",
   "execution_count": null,
   "metadata": {},
   "outputs": [],
   "source": [
    "# # GA search cv with pipeline\n",
    "# rf_grid_ga = {\n",
    "#     'rf__n_estimators': Integer(100, 600),\n",
    "#     'rf__max_features': Categorical(['auto', 'sqrt', 'log2']),\n",
    "#     'rf__max_depth': Integer(2,20),\n",
    "#     'rf__criterion': Categorical(['poisson', 'squared_error', 'absolute_error', 'friedman_mse']),\n",
    "#     'rf__min_samples_split': Continuous(0.1, 0.9),\n",
    "#     'rf__bootstrap': Categorical([True, False])\n",
    "# }\n",
    "\n",
    "# rf_estimator_ga = GASearchCV(estimator=pipeline,\n",
    "#                              scoring='r2',\n",
    "#                              population_size=100,\n",
    "#                              generations=12,\n",
    "#                              mutation_probability=mutation_adapter,\n",
    "#                              crossover_probability=crossover_adapter,\n",
    "#                              param_grid=rf_grid_ga,\n",
    "#                              n_jobs=-1,\n",
    "#                              error_score='raise'\n",
    "#                             )"
   ]
  },
  {
   "cell_type": "code",
   "execution_count": null,
   "metadata": {},
   "outputs": [],
   "source": [
    "# rf_estimator_ga.fit(X_train_ga, y_train_ga)"
   ]
  },
  {
   "cell_type": "code",
   "execution_count": null,
   "metadata": {},
   "outputs": [],
   "source": [
    "# y_predict_rf_ga = rf_estimator_ga.predict(X_test_ga)"
   ]
  },
  {
   "cell_type": "code",
   "execution_count": null,
   "metadata": {},
   "outputs": [],
   "source": [
    "# y_predict_rf_ga"
   ]
  },
  {
   "cell_type": "code",
   "execution_count": null,
   "metadata": {},
   "outputs": [],
   "source": [
    "# # r2 score for random forest with GA and pipeline\n",
    "# rf_estimator_ga.score(X_test_ga[:periods_to_predict], y_test_ga)"
   ]
  },
  {
   "cell_type": "code",
   "execution_count": null,
   "metadata": {},
   "outputs": [],
   "source": [
    "# rf_predict_df['predicted - GA - pipe'] = [None] * len(X_train_ga) + list(y_predict_rf_ga)"
   ]
  },
  {
   "cell_type": "code",
   "execution_count": null,
   "metadata": {},
   "outputs": [],
   "source": [
    "# # plot results of random forest regressor with pipeline and GA search cv\n",
    "# rf_predict_df[['original', 'predicted - GA - pipe']].plot()\n",
    "# plt.title(\"Random forest prediction\")\n",
    "# plt.xlabel(\"month\")\n",
    "# plt.ylabel(\"number of accidents\")"
   ]
  },
  {
   "cell_type": "code",
   "execution_count": null,
   "metadata": {},
   "outputs": [],
   "source": []
  },
  {
   "cell_type": "code",
   "execution_count": null,
   "metadata": {},
   "outputs": [],
   "source": [
    "from sklearn.neural_network import MLPRegressor\n",
    "from sklearn import preprocessing"
   ]
  },
  {
   "cell_type": "code",
   "execution_count": null,
   "metadata": {},
   "outputs": [],
   "source": [
    "mlp = MLPRegressor(random_state=111)"
   ]
  },
  {
   "cell_type": "code",
   "execution_count": null,
   "metadata": {},
   "outputs": [],
   "source": [
    "# adapters for MLP with GA search cv\n",
    "mutation_adapter = ExponentialAdapter(initial_value=0.9, end_value=0.1, adaptive_rate=0.1)\n",
    "crossover_adapter = ExponentialAdapter(initial_value=0.1, end_value=0.9, adaptive_rate=0.1)"
   ]
  },
  {
   "cell_type": "code",
   "execution_count": null,
   "metadata": {},
   "outputs": [],
   "source": [
    "# prepare data for MLP\n",
    "scaler = StandardScaler()\n",
    "scaler.fit(dataset_ga[['day', 'month', 'year', 'y']].head(len(dataset_ga) - periods_to_predict))  # fit the scaler with training data\n",
    "\n",
    "# generate new dates\n",
    "new_rows['day'] = new_rows['ds'].dt.day\n",
    "new_rows['month'] = new_rows['ds'].dt.month\n",
    "new_rows['year'] = new_rows['ds'].dt.year\n",
    "scaled_data = dataset_df[['day', 'month', 'year', 'y']]\n",
    "scaled_data = pd.concat([scaled_data, new_rows[['day', 'month', 'year']]])\n",
    "scaled_data = pd.DataFrame(scaler.transform(scaled_data[['day', 'month', 'year', 'y']]), columns=['day', 'month', 'year', 'y'])\n",
    "\n",
    "X = scaled_data[['day', 'month', 'year']]\n",
    "y = scaled_data['y']\n",
    "\n",
    "# split the scaled data to train and test set\n",
    "X_train_scale = X.head(len(X) - periods_to_predict - periods_to_predict)\n",
    "X_test_scale = X.tail(periods_to_predict + periods_to_predict)\n",
    "y_train_scale = y.head(len(X) - periods_to_predict - periods_to_predict)\n",
    "y_test_scale = y.tail(periods_to_predict + periods_to_predict)\n",
    "X_train_scale.shape, X_test_scale.shape, y_train_scale.shape, y_test_scale.shape"
   ]
  },
  {
   "cell_type": "code",
   "execution_count": null,
   "metadata": {},
   "outputs": [],
   "source": []
  },
  {
   "cell_type": "code",
   "execution_count": null,
   "metadata": {},
   "outputs": [],
   "source": [
    "# hyperparameters in MLP model with GA\n",
    "mlp_grid_ga = {\n",
    "    \"hidden_layer_sizes\": Integer(5, 200), \n",
    "    \"activation\": Categorical([\"identity\", \"logistic\", \"tanh\", \"relu\"]), \n",
    "    \"solver\": Categorical([\"lbfgs\", \"sgd\", \"adam\"]), \n",
    "    \"alpha\": Continuous(0.00005, 0.05),\n",
    "    \"learning_rate\": Categorical([\"constant\", \"invscaling\", \"adaptive\"]),\n",
    "    \"max_iter\": Integer(150, 300)\n",
    "}"
   ]
  },
  {
   "cell_type": "code",
   "execution_count": null,
   "metadata": {},
   "outputs": [],
   "source": [
    "mlp_estimator_ga = GASearchCV(estimator=mlp,\n",
    "                             scoring='r2',\n",
    "                             population_size=200,\n",
    "                             generations=12,\n",
    "                             mutation_probability=mutation_adapter,\n",
    "                             crossover_probability=crossover_adapter,\n",
    "                             param_grid=mlp_grid_ga,\n",
    "                             n_jobs=-1,\n",
    "                             error_score='raise'\n",
    "                            )"
   ]
  },
  {
   "cell_type": "code",
   "execution_count": null,
   "metadata": {},
   "outputs": [],
   "source": []
  },
  {
   "cell_type": "code",
   "execution_count": null,
   "metadata": {
    "scrolled": true
   },
   "outputs": [],
   "source": [
    "mlp_estimator_ga.fit(X_train_scale, y_train_scale)"
   ]
  },
  {
   "cell_type": "code",
   "execution_count": null,
   "metadata": {},
   "outputs": [],
   "source": [
    "mlp_estimator_ga.best_params_"
   ]
  },
  {
   "cell_type": "code",
   "execution_count": null,
   "metadata": {},
   "outputs": [],
   "source": [
    "y_predict_mlp_ga = mlp_estimator_ga.predict(X_test_scale)\n",
    "y_predict_mlp_ga"
   ]
  },
  {
   "cell_type": "code",
   "execution_count": null,
   "metadata": {},
   "outputs": [],
   "source": [
    "# r2 score for MLP with GA\n",
    "mlp_estimator_ga.score(X_test_scale.head(periods_to_predict), y_test_scale.head(periods_to_predict))"
   ]
  },
  {
   "cell_type": "code",
   "execution_count": null,
   "metadata": {},
   "outputs": [],
   "source": [
    "# create dataframe with forecast (MLP + GA)\n",
    "predictions_unscaled = X_test_scale\n",
    "predictions_unscaled['y'] = y_predict_mlp_ga.tolist()\n",
    "predictions_unscaled = pd.DataFrame(scaler.inverse_transform(predictions_unscaled), columns=['day', 'month', 'year', 'y'])\n",
    "predictions_unscaled"
   ]
  },
  {
   "cell_type": "code",
   "execution_count": null,
   "metadata": {},
   "outputs": [],
   "source": [
    "mlp_predict_df = pd.concat([dataset_df[['ds']], new_rows[['ds']]], ignore_index=True)  # add results to predict_df\n",
    "\n",
    "mlp_predict_df['original'] = list(dataset_df['y']) + [None] * periods_to_predict\n",
    "mlp_predict_df['predicted - GA'] = [None] * (len(mlp_predict_df) - periods_to_predict - periods_to_predict) + list(predictions_unscaled['y'])\n",
    "mlp_predict_df.set_index('ds', inplace=True)\n",
    "mlp_predict_df.plot()  # plot results of MLP with GA\n",
    "plt.title(\"MLP using GA\")\n",
    "plt.xlabel(\"date (month)\")\n",
    "plt.ylabel(\"number of accidents\")"
   ]
  },
  {
   "cell_type": "code",
   "execution_count": null,
   "metadata": {},
   "outputs": [],
   "source": [
    "plot_fitness_evolution(mlp_estimator_ga)"
   ]
  },
  {
   "cell_type": "code",
   "execution_count": null,
   "metadata": {},
   "outputs": [],
   "source": []
  },
  {
   "cell_type": "code",
   "execution_count": null,
   "metadata": {},
   "outputs": [],
   "source": [
    "# grid for MLP and Randomized search CV\n",
    "mlp_grid_randomized = {\n",
    "    \"hidden_layer_sizes\": [10, 500], \n",
    "    \"activation\": [\"identity\", \"logistic\", \"tanh\", \"relu\"], \n",
    "    \"solver\": [\"lbfgs\", \"sgd\", \"adam\"], \n",
    "    \"alpha\": [0.00005, 0.05],\n",
    "    \"learning_rate\": [\"constant\", \"invscaling\", \"adaptive\"],\n",
    "    \"max_iter\": [150, 300]\n",
    "}\n"
   ]
  },
  {
   "cell_type": "code",
   "execution_count": null,
   "metadata": {},
   "outputs": [],
   "source": [
    "from sklearn.model_selection import RandomizedSearchCV"
   ]
  },
  {
   "cell_type": "code",
   "execution_count": null,
   "metadata": {},
   "outputs": [],
   "source": [
    "mlp_estimator_randomized = RandomizedSearchCV(estimator=mlp,\n",
    "                                             scoring='neg_root_mean_squared_error',\n",
    "                                             param_distributions = mlp_grid_randomized,\n",
    "                                             n_jobs=-1,\n",
    "                                             error_score='raise',\n",
    "                                             random_state=111\n",
    "                                            )"
   ]
  },
  {
   "cell_type": "code",
   "execution_count": null,
   "metadata": {},
   "outputs": [],
   "source": [
    "mlp_estimator_randomized.fit(X_train_scale, y_train_scale)"
   ]
  },
  {
   "cell_type": "code",
   "execution_count": null,
   "metadata": {},
   "outputs": [],
   "source": [
    "mlp_estimator_randomized.best_params_"
   ]
  },
  {
   "cell_type": "code",
   "execution_count": null,
   "metadata": {},
   "outputs": [],
   "source": [
    "y_predict_mlp_randomized = mlp_estimator_randomized.predict(X_test_scale[['day', 'month', 'year']])\n",
    "y_predict_mlp_randomized"
   ]
  },
  {
   "cell_type": "code",
   "execution_count": null,
   "metadata": {},
   "outputs": [],
   "source": [
    "# r2 score for MLP regressor with randomized search cv\n",
    "mlp_estimator_randomized.score(X_test_scale[['day', 'month', 'year']].head(periods_to_predict), y_test_scale.head(periods_to_predict))"
   ]
  },
  {
   "cell_type": "code",
   "execution_count": null,
   "metadata": {
    "scrolled": false
   },
   "outputs": [],
   "source": [
    "# add forecasted values to a dataframe\n",
    "predictions_unscaled = X_test_scale\n",
    "predictions_unscaled['y'] = y_predict_mlp_randomized.tolist()\n",
    "predictions_unscaled = pd.DataFrame(scaler.inverse_transform(predictions_unscaled), columns=['day', 'month', 'year', 'y'])\n",
    "predictions_unscaled"
   ]
  },
  {
   "cell_type": "code",
   "execution_count": null,
   "metadata": {
    "scrolled": false
   },
   "outputs": [],
   "source": [
    "# plot predicted values from MLP model with randomized search cv\n",
    "mlp_predict_df['predicted - Randomized'] = [None] * (len(mlp_predict_df) - periods_to_predict - periods_to_predict) + list(predictions_unscaled['y'])\n",
    "mlp_predict_df[['original', 'predicted - Randomized']].plot()\n",
    "plt.title(\"MLP using Randomized search\")\n",
    "plt.xlabel(\"date (month)\")\n",
    "plt.ylabel(\"number of accidents\")"
   ]
  },
  {
   "cell_type": "code",
   "execution_count": null,
   "metadata": {},
   "outputs": [],
   "source": []
  },
  {
   "cell_type": "code",
   "execution_count": null,
   "metadata": {},
   "outputs": [],
   "source": [
    "# grid for MLP and Grid search CV\n",
    "mlp_grid = {\n",
    "    \"hidden_layer_sizes\": [10, 250, 500], \n",
    "    \"activation\": [\"identity\", \"logistic\", \"tanh\", \"relu\"], \n",
    "    \"solver\": [\"lbfgs\", \"sgd\", \"adam\"], \n",
    "    \"alpha\": [0.00005, 0.005, 0.05],\n",
    "    \"learning_rate\": [\"constant\", \"invscaling\", \"adaptive\"],\n",
    "    \"max_iter\": [150, 300]\n",
    "}"
   ]
  },
  {
   "cell_type": "code",
   "execution_count": null,
   "metadata": {},
   "outputs": [],
   "source": [
    "mlp_estimator_grid = GridSearchCV(estimator=mlp,\n",
    "                                  scoring='neg_root_mean_squared_error',\n",
    "                                  param_grid = mlp_grid_randomized,\n",
    "                                  n_jobs=-1,\n",
    "                                  error_score='raise'\n",
    "                                 )"
   ]
  },
  {
   "cell_type": "code",
   "execution_count": null,
   "metadata": {},
   "outputs": [],
   "source": [
    "mlp_estimator_grid.fit(X_train_scale, y_train_scale)"
   ]
  },
  {
   "cell_type": "code",
   "execution_count": null,
   "metadata": {},
   "outputs": [],
   "source": [
    "mlp_estimator_grid.best_params_"
   ]
  },
  {
   "cell_type": "code",
   "execution_count": null,
   "metadata": {},
   "outputs": [],
   "source": [
    "y_predict_mlp_grid = mlp_estimator_grid.predict(X_test_scale[['day', 'month', 'year']])\n",
    "y_predict_mlp_grid"
   ]
  },
  {
   "cell_type": "code",
   "execution_count": null,
   "metadata": {},
   "outputs": [],
   "source": [
    "# r2 score for MLP regressor with grid search cv\n",
    "mlp_estimator_grid.score(X_test_scale[['day', 'month', 'year']].head(periods_to_predict), y_test_scale.head(periods_to_predict))"
   ]
  },
  {
   "cell_type": "code",
   "execution_count": null,
   "metadata": {},
   "outputs": [],
   "source": [
    "# add forecasted values to a dataframe\n",
    "predictions_unscaled = X_test_scale\n",
    "predictions_unscaled['y'] = y_predict_mlp_grid.tolist()\n",
    "predictions_unscaled = pd.DataFrame(scaler.inverse_transform(predictions_unscaled), columns=['day', 'month', 'year', 'y'])\n",
    "predictions_unscaled"
   ]
  },
  {
   "cell_type": "code",
   "execution_count": null,
   "metadata": {},
   "outputs": [],
   "source": [
    "# plot predicted values from MLP model with grid search cv\n",
    "mlp_predict_df['predicted - Grid'] = [None] * (len(mlp_predict_df) - periods_to_predict - periods_to_predict) + list(predictions_unscaled['y'])\n",
    "mlp_predict_df[['original', 'predicted - Grid']].plot()\n",
    "plt.title(\"MLP using Grid search\")\n",
    "plt.xlabel(\"date (month)\")\n",
    "plt.ylabel(\"number of accidents\")"
   ]
  },
  {
   "cell_type": "code",
   "execution_count": null,
   "metadata": {},
   "outputs": [],
   "source": []
  },
  {
   "cell_type": "code",
   "execution_count": null,
   "metadata": {},
   "outputs": [],
   "source": [
    "predict_df['MLP + GA'] = list(mlp_predict_df['predicted - GA'])\n",
    "predict_df['MLP + randomized'] = list(mlp_predict_df['predicted - Randomized'])\n",
    "predict_df['MLP + grid'] = list(mlp_predict_df['predicted - Grid'])\n",
    "\n",
    "predict_df"
   ]
  },
  {
   "cell_type": "code",
   "execution_count": null,
   "metadata": {},
   "outputs": [],
   "source": []
  },
  {
   "cell_type": "code",
   "execution_count": null,
   "metadata": {},
   "outputs": [],
   "source": [
    "import torch\n",
    "import torch.nn as nn\n",
    "import torch.nn.functional as F\n",
    "from torch_geometric.data import Data\n",
    "from torch_geometric.loader import DataLoader\n",
    "from torch_geometric.nn import GCNConv"
   ]
  },
  {
   "cell_type": "code",
   "execution_count": null,
   "metadata": {},
   "outputs": [],
   "source": [
    "def create_graph_dataset(dataframe, num_neighbors=21):\n",
    "    ds_values = pd.to_datetime(dataframe['ds']).values.astype(float)\n",
    "    y_values = dataframe['y'].values.astype(float)\n",
    "\n",
    "    x = torch.tensor(y_values, dtype=torch.float32).view(-1, 1)\n",
    "    edge_index = torch.zeros((2, 0), dtype=torch.long)\n",
    "\n",
    "    for i in range(len(ds_values)):\n",
    "        # num_neighbors nearest timestamps will be edges\n",
    "        start = max(0, i - num_neighbors)\n",
    "        end = min(len(ds_values), i + num_neighbors + 1)\n",
    "        neighbors = list(range(start, i)) + list(range(i + 1, end))\n",
    "        edges = torch.tensor([[i] * len(neighbors), neighbors], dtype=torch.long)\n",
    "        edge_index = torch.cat([edge_index, edges], dim=1)\n",
    "\n",
    "    return Data(x=x, edge_index=edge_index)\n",
    "\n",
    "# create a graph dataset from the DataFrame with train and test data\n",
    "train_dataset_gnn = create_graph_dataset(dataset_train)\n",
    "new_rows = predict_df.reset_index()[['ds']].tail(periods_to_predict)\n",
    "new_rows['y'] = (dataset_test['y'].to_list() * ((len(new_rows) // len(dataset_test)) + 1))[:len(new_rows)]\n",
    "test_dataset_gnn = create_graph_dataset(pd.concat([dataset_test, new_rows]))  # concaternanting with new_rows to add future dates\n",
    "\n",
    "# create data loaders for training and testing\n",
    "train_loader = DataLoader([train_dataset_gnn], batch_size=64)\n",
    "test_loader = DataLoader([test_dataset_gnn], batch_size=64)"
   ]
  },
  {
   "cell_type": "code",
   "execution_count": null,
   "metadata": {},
   "outputs": [],
   "source": [
    "# define the GNN model\n",
    "class TimeSeriesGNN(nn.Module):\n",
    "    def __init__(self, in_channels, hidden_channels, out_channels):\n",
    "        super(TimeSeriesGNN, self).__init__()\n",
    "        torch.manual_seed(111)\n",
    "        self.conv1 = GCNConv(in_channels, hidden_channels)  # first layer\n",
    "        self.conv2 = GCNConv(hidden_channels, out_channels)  # second layer\n",
    "\n",
    "    def forward(self, data):\n",
    "        x, edge_index = data.x, data.edge_index\n",
    "\n",
    "        # first GCN layer\n",
    "        x = F.relu(self.conv1(x, edge_index))\n",
    "        x = F.dropout(x, p=0.5, training=self.training)\n",
    "\n",
    "        # second GCN layer\n",
    "        x = self.conv2(x, edge_index)\n",
    "        \n",
    "        return x\n",
    "\n",
    "# dimensions used for the GNN\n",
    "input_dim = 1  # dimension of node features\n",
    "hidden_dim = 64\n",
    "output_dim = 1  # dimension of the predicted output\n",
    "\n",
    "gnn_model = TimeSeriesGNN(input_dim, hidden_dim, output_dim)  # create the GNN model\n",
    "\n",
    "loss_fn = nn.MSELoss()  # loss function used for regression\n",
    "\n",
    "optimizer = torch.optim.Adam(gnn_model.parameters(), lr=0.01)  # optimizer used for regression\n",
    "\n",
    "# train the model using the DataLoader object\n",
    "num_epochs = 500\n",
    "for epoch in range(num_epochs):\n",
    "    gnn_model.train()\n",
    "    for data in train_loader:\n",
    "        optimizer.zero_grad()\n",
    "        output = gnn_model(data)\n",
    "        loss = loss_fn(output, data.x)\n",
    "        loss.backward()\n",
    "        optimizer.step()\n",
    "\n",
    "# make predictions\n",
    "gnn_model.eval()\n",
    "for data in test_loader:\n",
    "    output = gnn_model(data)\n",
    "    print(output)\n",
    "    predict_df['GNN'] = [None] * len(dataset_train) + output.flatten().tolist()"
   ]
  },
  {
   "cell_type": "code",
   "execution_count": null,
   "metadata": {},
   "outputs": [],
   "source": []
  },
  {
   "cell_type": "code",
   "execution_count": 263,
   "metadata": {},
   "outputs": [],
   "source": [
    "from pytorch_forecasting import TemporalFusionTransformer, TimeSeriesDataSet\n",
    "from pytorch_forecasting.data import GroupNormalizer\n",
    "from pytorch_forecasting.metrics import MAE, SMAPE, PoissonLoss, QuantileLoss\n",
    "import pytorch_lightning as pl\n",
    "from pytorch_lightning.callbacks import EarlyStopping, LearningRateMonitor\n",
    "from pytorch_lightning.loggers import TensorBoardLogger"
   ]
  },
  {
   "cell_type": "code",
   "execution_count": 264,
   "metadata": {},
   "outputs": [],
   "source": [
    "# add time index\n",
    "dataset_df['time_idx'] = [i for i in range(1, len(dataset_df) + 1)]\n",
    "dataset_df['group_id'] = 0\n",
    "dataset_df['y'] = dataset_df['y'].astype(float)"
   ]
  },
  {
   "cell_type": "code",
   "execution_count": 265,
   "metadata": {},
   "outputs": [],
   "source": [
    "max_prediction_length = periods_to_predict\n",
    "max_encoder_length = 7\n",
    "training_cutoff = dataset_df['time_idx'].max() - max_prediction_length"
   ]
  },
  {
   "cell_type": "code",
   "execution_count": 268,
   "metadata": {},
   "outputs": [
    {
     "data": {
      "text/html": [
       "<div>\n",
       "<style scoped>\n",
       "    .dataframe tbody tr th:only-of-type {\n",
       "        vertical-align: middle;\n",
       "    }\n",
       "\n",
       "    .dataframe tbody tr th {\n",
       "        vertical-align: top;\n",
       "    }\n",
       "\n",
       "    .dataframe thead th {\n",
       "        text-align: right;\n",
       "    }\n",
       "</style>\n",
       "<table border=\"1\" class=\"dataframe\">\n",
       "  <thead>\n",
       "    <tr style=\"text-align: right;\">\n",
       "      <th></th>\n",
       "      <th>ds</th>\n",
       "      <th>y</th>\n",
       "      <th>time_idx</th>\n",
       "      <th>group_id</th>\n",
       "    </tr>\n",
       "  </thead>\n",
       "  <tbody>\n",
       "    <tr>\n",
       "      <th>0</th>\n",
       "      <td>2016-01-01</td>\n",
       "      <td>450.0</td>\n",
       "      <td>1</td>\n",
       "      <td>0</td>\n",
       "    </tr>\n",
       "    <tr>\n",
       "      <th>1</th>\n",
       "      <td>2016-01-02</td>\n",
       "      <td>148.0</td>\n",
       "      <td>2</td>\n",
       "      <td>0</td>\n",
       "    </tr>\n",
       "    <tr>\n",
       "      <th>2</th>\n",
       "      <td>2016-01-03</td>\n",
       "      <td>99.0</td>\n",
       "      <td>3</td>\n",
       "      <td>0</td>\n",
       "    </tr>\n",
       "    <tr>\n",
       "      <th>3</th>\n",
       "      <td>2016-01-04</td>\n",
       "      <td>344.0</td>\n",
       "      <td>4</td>\n",
       "      <td>0</td>\n",
       "    </tr>\n",
       "    <tr>\n",
       "      <th>4</th>\n",
       "      <td>2016-01-05</td>\n",
       "      <td>271.0</td>\n",
       "      <td>5</td>\n",
       "      <td>0</td>\n",
       "    </tr>\n",
       "    <tr>\n",
       "      <th>...</th>\n",
       "      <td>...</td>\n",
       "      <td>...</td>\n",
       "      <td>...</td>\n",
       "      <td>...</td>\n",
       "    </tr>\n",
       "    <tr>\n",
       "      <th>2552</th>\n",
       "      <td>2022-12-27</td>\n",
       "      <td>169.0</td>\n",
       "      <td>2553</td>\n",
       "      <td>0</td>\n",
       "    </tr>\n",
       "    <tr>\n",
       "      <th>2553</th>\n",
       "      <td>2022-12-28</td>\n",
       "      <td>157.0</td>\n",
       "      <td>2554</td>\n",
       "      <td>0</td>\n",
       "    </tr>\n",
       "    <tr>\n",
       "      <th>2554</th>\n",
       "      <td>2022-12-29</td>\n",
       "      <td>151.0</td>\n",
       "      <td>2555</td>\n",
       "      <td>0</td>\n",
       "    </tr>\n",
       "    <tr>\n",
       "      <th>2555</th>\n",
       "      <td>2022-12-30</td>\n",
       "      <td>157.0</td>\n",
       "      <td>2556</td>\n",
       "      <td>0</td>\n",
       "    </tr>\n",
       "    <tr>\n",
       "      <th>2556</th>\n",
       "      <td>2022-12-31</td>\n",
       "      <td>111.0</td>\n",
       "      <td>2557</td>\n",
       "      <td>0</td>\n",
       "    </tr>\n",
       "  </tbody>\n",
       "</table>\n",
       "<p>2557 rows × 4 columns</p>\n",
       "</div>"
      ],
      "text/plain": [
       "             ds      y  time_idx  group_id\n",
       "0    2016-01-01  450.0         1         0\n",
       "1    2016-01-02  148.0         2         0\n",
       "2    2016-01-03   99.0         3         0\n",
       "3    2016-01-04  344.0         4         0\n",
       "4    2016-01-05  271.0         5         0\n",
       "...         ...    ...       ...       ...\n",
       "2552 2022-12-27  169.0      2553         0\n",
       "2553 2022-12-28  157.0      2554         0\n",
       "2554 2022-12-29  151.0      2555         0\n",
       "2555 2022-12-30  157.0      2556         0\n",
       "2556 2022-12-31  111.0      2557         0\n",
       "\n",
       "[2557 rows x 4 columns]"
      ]
     },
     "execution_count": 268,
     "metadata": {},
     "output_type": "execute_result"
    }
   ],
   "source": [
    "dataset_df"
   ]
  },
  {
   "cell_type": "code",
   "execution_count": 261,
   "metadata": {},
   "outputs": [],
   "source": [
    "training = TimeSeriesDataSet(\n",
    "    dataset_df[lambda x: x.time_idx < training_cutoff],\n",
    "    time_idx=\"time_idx\",\n",
    "    target=\"y\",\n",
    "    group_ids=['group_id'],\n",
    "    min_encoder_length=max_encoder_length // 2,\n",
    "    max_encoder_length=max_encoder_length,\n",
    "    min_prediction_length=1,\n",
    "    max_prediction_length=max_prediction_length,\n",
    "    static_categoricals=[],\n",
    "    static_reals=[],\n",
    "    time_varying_known_categoricals=[],\n",
    "    variable_groups={},  # group of categorical variables can be treated as one variable\n",
    "    time_varying_known_reals=[\"time_idx\"],\n",
    "    time_varying_unknown_categoricals=[],\n",
    "    time_varying_unknown_reals=[],\n",
    "    add_relative_time_idx=True,\n",
    "    add_target_scales=True,\n",
    "    add_encoder_length=True,\n",
    ")"
   ]
  },
  {
   "cell_type": "code",
   "execution_count": null,
   "metadata": {},
   "outputs": [],
   "source": []
  },
  {
   "cell_type": "code",
   "execution_count": 203,
   "metadata": {},
   "outputs": [],
   "source": [
    "validation = TimeSeriesDataSet.from_dataset(\n",
    "  training, # dataset from which to copy parameters (encoders, scalers, ...)\n",
    "  dataset_df.tail(periods_to_predict+(max_encoder_length//2)), # data from which new dataset will be generated\n",
    "  predict=True, # predict the decoder length on the last entries in the time index\n",
    "  stop_randomization=True,\n",
    ")"
   ]
  },
  {
   "cell_type": "code",
   "execution_count": 204,
   "metadata": {},
   "outputs": [
    {
     "data": {
      "text/plain": [
       "TimeSeriesDataSet[length=1](\n",
       "\ttime_idx='time_idx',\n",
       "\ttarget='y',\n",
       "\tgroup_ids=['group_id'],\n",
       "\tweight=None,\n",
       "\tmax_encoder_length=7,\n",
       "\tmin_encoder_length=3,\n",
       "\tmin_prediction_idx=1,\n",
       "\tmin_prediction_length=365,\n",
       "\tmax_prediction_length=365,\n",
       "\tstatic_categoricals=[],\n",
       "\tstatic_reals=['encoder_length', 'y_center', 'y_scale'],\n",
       "\ttime_varying_known_categoricals=[],\n",
       "\ttime_varying_known_reals=['time_idx', 'relative_time_idx'],\n",
       "\ttime_varying_unknown_categoricals=[],\n",
       "\ttime_varying_unknown_reals=[],\n",
       "\tvariable_groups={},\n",
       "\tconstant_fill_strategy={},\n",
       "\tallow_missing_timesteps=False,\n",
       "\tlags={},\n",
       "\tadd_relative_time_idx=True,\n",
       "\tadd_target_scales=True,\n",
       "\tadd_encoder_length=True,\n",
       "\ttarget_normalizer=GroupNormalizer(\n",
       "\tmethod='standard',\n",
       "\tgroups=[],\n",
       "\tcenter=True,\n",
       "\tscale_by_group=False,\n",
       "\ttransformation='relu'\n",
       "),\n",
       "\tcategorical_encoders={'__group_id__group_id': NaNLabelEncoder(add_nan=False, warn=True), 'group_id': NaNLabelEncoder(add_nan=False, warn=True)},\n",
       "\tscalers={'encoder_length': StandardScaler(), 'y_center': StandardScaler(), 'y_scale': StandardScaler(), 'time_idx': StandardScaler(), 'relative_time_idx': StandardScaler()},\n",
       "\trandomize_length=None,\n",
       "\tpredict_mode=True\n",
       ")"
      ]
     },
     "execution_count": 204,
     "metadata": {},
     "output_type": "execute_result"
    }
   ],
   "source": []
  },
  {
   "cell_type": "code",
   "execution_count": 205,
   "metadata": {},
   "outputs": [],
   "source": [
    "batch_size = 128"
   ]
  },
  {
   "cell_type": "code",
   "execution_count": 206,
   "metadata": {},
   "outputs": [],
   "source": [
    "train_dataloader = training.to_dataloader(train=True, batch_size=batch_size, num_workers=0)\n",
    "val_dataloader = validation.to_dataloader(train=False, batch_size=batch_size * 10, num_workers=0)"
   ]
  },
  {
   "cell_type": "code",
   "execution_count": 207,
   "metadata": {},
   "outputs": [
    {
     "name": "stderr",
     "output_type": "stream",
     "text": [
      "GPU available: False, used: False\n",
      "TPU available: False, using: 0 TPU cores\n",
      "IPU available: False, using: 0 IPUs\n",
      "HPU available: False, using: 0 HPUs\n"
     ]
    },
    {
     "name": "stdout",
     "output_type": "stream",
     "text": [
      "Number of parameters in network: 18.0k\n"
     ]
    },
    {
     "name": "stderr",
     "output_type": "stream",
     "text": [
      "C:\\Users\\katka\\AppData\\Roaming\\Python\\Python38\\site-packages\\pytorch_lightning\\utilities\\parsing.py:269: UserWarning: Attribute 'loss' is an instance of `nn.Module` and is already saved during checkpointing. It is recommended to ignore them using `self.save_hyperparameters(ignore=['loss'])`.\n",
      "  rank_zero_warn(\n",
      "C:\\Users\\katka\\AppData\\Roaming\\Python\\Python38\\site-packages\\pytorch_lightning\\utilities\\parsing.py:269: UserWarning: Attribute 'logging_metrics' is an instance of `nn.Module` and is already saved during checkpointing. It is recommended to ignore them using `self.save_hyperparameters(ignore=['logging_metrics'])`.\n",
      "  rank_zero_warn(\n"
     ]
    }
   ],
   "source": [
    "# configure network and trainer\n",
    "early_stop_callback = EarlyStopping(monitor=\"val_loss\", min_delta=1e-4, patience=10, verbose=False, mode=\"min\")\n",
    "lr_logger = LearningRateMonitor()  # log the learning rate\n",
    "logger = TensorBoardLogger(\"lightning_logs\")  # logging results to a tensorboard\n",
    "\n",
    "trainer = pl.Trainer(\n",
    "    max_epochs=50,\n",
    "    accelerator=\"cpu\",\n",
    "    enable_model_summary=True,\n",
    "    gradient_clip_val=0.1,\n",
    "    limit_train_batches=50,  # coment in for training, running valiation every 30 batches\n",
    "    # fast_dev_run=True,  # comment in to check that networkor dataset has no serious bugs\n",
    "    callbacks=[lr_logger, early_stop_callback],\n",
    "    logger=logger,\n",
    ")\n",
    "\n",
    "tft = TemporalFusionTransformer.from_dataset(\n",
    "    training,\n",
    "    learning_rate=0.03,\n",
    "    hidden_size=16,\n",
    "    attention_head_size=2,\n",
    "    dropout=0.1,\n",
    "    hidden_continuous_size=8,\n",
    "    loss=QuantileLoss(),\n",
    "    log_interval=10,\n",
    "    optimizer='Adam',\n",
    "    reduce_on_plateau_patience=4,\n",
    ")\n",
    "print(f\"Number of parameters in network: {tft.size()/1e3:.1f}k\")"
   ]
  },
  {
   "cell_type": "code",
   "execution_count": 208,
   "metadata": {
    "scrolled": true
   },
   "outputs": [
    {
     "name": "stderr",
     "output_type": "stream",
     "text": [
      "\n",
      "   | Name                               | Type                            | Params\n",
      "----------------------------------------------------------------------------------------\n",
      "0  | loss                               | QuantileLoss                    | 0     \n",
      "1  | logging_metrics                    | ModuleList                      | 0     \n",
      "2  | input_embeddings                   | MultiEmbedding                  | 0     \n",
      "3  | prescalers                         | ModuleDict                      | 80    \n",
      "4  | static_variable_selection          | VariableSelectionNetwork        | 1.7 K \n",
      "5  | encoder_variable_selection         | VariableSelectionNetwork        | 1.2 K \n",
      "6  | decoder_variable_selection         | VariableSelectionNetwork        | 1.2 K \n",
      "7  | static_context_variable_selection  | GatedResidualNetwork            | 1.1 K \n",
      "8  | static_context_initial_hidden_lstm | GatedResidualNetwork            | 1.1 K \n",
      "9  | static_context_initial_cell_lstm   | GatedResidualNetwork            | 1.1 K \n",
      "10 | static_context_enrichment          | GatedResidualNetwork            | 1.1 K \n",
      "11 | lstm_encoder                       | LSTM                            | 2.2 K \n",
      "12 | lstm_decoder                       | LSTM                            | 2.2 K \n",
      "13 | post_lstm_gate_encoder             | GatedLinearUnit                 | 544   \n",
      "14 | post_lstm_add_norm_encoder         | AddNorm                         | 32    \n",
      "15 | static_enrichment                  | GatedResidualNetwork            | 1.4 K \n",
      "16 | multihead_attn                     | InterpretableMultiHeadAttention | 808   \n",
      "17 | post_attn_gate_norm                | GateAddNorm                     | 576   \n",
      "18 | pos_wise_ff                        | GatedResidualNetwork            | 1.1 K \n",
      "19 | pre_output_gate_norm               | GateAddNorm                     | 576   \n",
      "20 | output_layer                       | Linear                          | 119   \n",
      "----------------------------------------------------------------------------------------\n",
      "18.0 K    Trainable params\n",
      "0         Non-trainable params\n",
      "18.0 K    Total params\n",
      "0.072     Total estimated model params size (MB)\n"
     ]
    },
    {
     "data": {
      "application/vnd.jupyter.widget-view+json": {
       "model_id": "",
       "version_major": 2,
       "version_minor": 0
      },
      "text/plain": [
       "Sanity Checking: 0it [00:00, ?it/s]"
      ]
     },
     "metadata": {},
     "output_type": "display_data"
    },
    {
     "name": "stderr",
     "output_type": "stream",
     "text": [
      "C:\\Users\\katka\\AppData\\Roaming\\Python\\Python38\\site-packages\\pytorch_lightning\\trainer\\connectors\\data_connector.py:224: PossibleUserWarning: The dataloader, val_dataloader 0, does not have many workers which may be a bottleneck. Consider increasing the value of the `num_workers` argument` (try 4 which is the number of cpus on this machine) in the `DataLoader` init to improve performance.\n",
      "  rank_zero_warn(\n",
      "C:\\Users\\katka\\AppData\\Roaming\\Python\\Python38\\site-packages\\pytorch_lightning\\trainer\\connectors\\data_connector.py:224: PossibleUserWarning: The dataloader, train_dataloader, does not have many workers which may be a bottleneck. Consider increasing the value of the `num_workers` argument` (try 4 which is the number of cpus on this machine) in the `DataLoader` init to improve performance.\n",
      "  rank_zero_warn(\n",
      "C:\\Users\\katka\\AppData\\Roaming\\Python\\Python38\\site-packages\\pytorch_lightning\\trainer\\trainer.py:1609: PossibleUserWarning: The number of training batches (19) is smaller than the logging interval Trainer(log_every_n_steps=50). Set a lower value for log_every_n_steps if you want to see logs for the training epoch.\n",
      "  rank_zero_warn(\n"
     ]
    },
    {
     "data": {
      "application/vnd.jupyter.widget-view+json": {
       "model_id": "8462797932344f3cb357199b5bdc148a",
       "version_major": 2,
       "version_minor": 0
      },
      "text/plain": [
       "Training: 0it [00:00, ?it/s]"
      ]
     },
     "metadata": {},
     "output_type": "display_data"
    },
    {
     "data": {
      "application/vnd.jupyter.widget-view+json": {
       "model_id": "",
       "version_major": 2,
       "version_minor": 0
      },
      "text/plain": [
       "Validation: 0it [00:00, ?it/s]"
      ]
     },
     "metadata": {},
     "output_type": "display_data"
    },
    {
     "data": {
      "application/vnd.jupyter.widget-view+json": {
       "model_id": "",
       "version_major": 2,
       "version_minor": 0
      },
      "text/plain": [
       "Validation: 0it [00:00, ?it/s]"
      ]
     },
     "metadata": {},
     "output_type": "display_data"
    },
    {
     "data": {
      "application/vnd.jupyter.widget-view+json": {
       "model_id": "",
       "version_major": 2,
       "version_minor": 0
      },
      "text/plain": [
       "Validation: 0it [00:00, ?it/s]"
      ]
     },
     "metadata": {},
     "output_type": "display_data"
    },
    {
     "data": {
      "application/vnd.jupyter.widget-view+json": {
       "model_id": "",
       "version_major": 2,
       "version_minor": 0
      },
      "text/plain": [
       "Validation: 0it [00:00, ?it/s]"
      ]
     },
     "metadata": {},
     "output_type": "display_data"
    },
    {
     "data": {
      "application/vnd.jupyter.widget-view+json": {
       "model_id": "",
       "version_major": 2,
       "version_minor": 0
      },
      "text/plain": [
       "Validation: 0it [00:00, ?it/s]"
      ]
     },
     "metadata": {},
     "output_type": "display_data"
    },
    {
     "name": "stderr",
     "output_type": "stream",
     "text": [
      "`Trainer.fit` stopped: `max_epochs=5` reached.\n"
     ]
    }
   ],
   "source": [
    "# fit network\n",
    "trainer.fit(\n",
    "    tft,\n",
    "    train_dataloaders=train_dataloader,\n",
    "    val_dataloaders=val_dataloader,\n",
    ")"
   ]
  },
  {
   "cell_type": "code",
   "execution_count": 209,
   "metadata": {},
   "outputs": [],
   "source": [
    "# load the best model according to the validation loss\n",
    "best_model_path = trainer.checkpoint_callback.best_model_path\n",
    "best_tft = TemporalFusionTransformer.load_from_checkpoint(best_model_path)"
   ]
  },
  {
   "cell_type": "code",
   "execution_count": 210,
   "metadata": {},
   "outputs": [],
   "source": [
    "predictions = best_tft.predict(val_dataloader)"
   ]
  },
  {
   "cell_type": "code",
   "execution_count": 252,
   "metadata": {},
   "outputs": [],
   "source": [
    "new_rows_transformer = predict_df.tail(periods_to_predict+(max_encoder_length//2)).reset_index()[['ds']]\n",
    "new_rows_transformer['time_idx'] = [i for i in range(dataset_df['time_idx'].max() + 1, dataset_df['time_idx'].max() + len(new_rows_transformer) + 1)]\n",
    "new_rows_transformer['group_id'] = 0\n",
    "new_rows_transformer['y'] = [0] * len(new_rows_transformer)\n",
    "new_rows_transformer['ds'] = new_rows_transformer['ds'].values.astype(float)"
   ]
  },
  {
   "cell_type": "code",
   "execution_count": 253,
   "metadata": {},
   "outputs": [],
   "source": [
    "new_predictions = best_tft.predict(new_rows_transformer).tolist()[0]"
   ]
  },
  {
   "cell_type": "code",
   "execution_count": 254,
   "metadata": {},
   "outputs": [],
   "source": [
    "predict_df['transformer'] = [None] * (len(predict_df) - 2 * periods_to_predict) + predictions.tolist()[0] + new_predictions"
   ]
  },
  {
   "cell_type": "code",
   "execution_count": null,
   "metadata": {},
   "outputs": [],
   "source": []
  },
  {
   "cell_type": "code",
   "execution_count": null,
   "metadata": {},
   "outputs": [],
   "source": [
    "from autots import AutoTS"
   ]
  },
  {
   "cell_type": "code",
   "execution_count": null,
   "metadata": {},
   "outputs": [],
   "source": [
    "autots_model = AutoTS(forecast_length=periods_to_predict)\n",
    "autots_model = autots_model.fit(dataset_train, date_col='ds', value_col='y', id_col=None)"
   ]
  },
  {
   "cell_type": "code",
   "execution_count": null,
   "metadata": {
    "scrolled": false
   },
   "outputs": [],
   "source": [
    "autots_model  # show the most optimal model and its hyperparameters"
   ]
  },
  {
   "cell_type": "code",
   "execution_count": null,
   "metadata": {},
   "outputs": [],
   "source": [
    "prediction = autots_model.predict(forecast_length=periods_to_predict + periods_to_predict)\n",
    "forecast = prediction.forecast"
   ]
  },
  {
   "cell_type": "code",
   "execution_count": null,
   "metadata": {},
   "outputs": [],
   "source": [
    "forecast.columns = ['predicted']\n",
    "forecast"
   ]
  },
  {
   "cell_type": "code",
   "execution_count": null,
   "metadata": {},
   "outputs": [],
   "source": [
    "# add results to predict_df\n",
    "predict_df['AutoTS'] = [np.nan] * len(dataset_train) + list(forecast['predicted'])\n",
    "\n",
    "# plot the results\n",
    "predict_df[['original', 'AutoTS']].plot()\n",
    "plt.title('best algorithm by AutoTS')\n",
    "plt.xlabel('date')\n",
    "plt.ylabel('number of accidents')"
   ]
  },
  {
   "cell_type": "code",
   "execution_count": null,
   "metadata": {},
   "outputs": [],
   "source": [
    "autots_model.results()"
   ]
  },
  {
   "cell_type": "code",
   "execution_count": null,
   "metadata": {},
   "outputs": [],
   "source": []
  },
  {
   "cell_type": "code",
   "execution_count": 256,
   "metadata": {},
   "outputs": [
    {
     "data": {
      "text/html": [
       "<div>\n",
       "<style scoped>\n",
       "    .dataframe tbody tr th:only-of-type {\n",
       "        vertical-align: middle;\n",
       "    }\n",
       "\n",
       "    .dataframe tbody tr th {\n",
       "        vertical-align: top;\n",
       "    }\n",
       "\n",
       "    .dataframe thead th {\n",
       "        text-align: right;\n",
       "    }\n",
       "</style>\n",
       "<table border=\"1\" class=\"dataframe\">\n",
       "  <thead>\n",
       "    <tr style=\"text-align: right;\">\n",
       "      <th></th>\n",
       "      <th>RMSE</th>\n",
       "    </tr>\n",
       "  </thead>\n",
       "  <tbody>\n",
       "    <tr>\n",
       "      <th>transformer</th>\n",
       "      <td>66.095591</td>\n",
       "    </tr>\n",
       "  </tbody>\n",
       "</table>\n",
       "</div>"
      ],
      "text/plain": [
       "                  RMSE\n",
       "transformer  66.095591"
      ]
     },
     "execution_count": 256,
     "metadata": {},
     "output_type": "execute_result"
    }
   ],
   "source": [
    "from sklearn.metrics import mean_squared_error\n",
    "\n",
    "target_values = predict_df.tail(periods_to_predict + periods_to_predict).head(periods_to_predict)['original'].values\n",
    "rmse_results = {}\n",
    "\n",
    "for col in predict_df.columns:\n",
    "    if col != 'original':\n",
    "        # Get the predicted values for the current model\n",
    "        predicted_values = predict_df.tail(periods_to_predict + periods_to_predict).head(periods_to_predict)[col].values\n",
    "\n",
    "        # Calculate the mean squared error\n",
    "        mse = mean_squared_error(target_values, predicted_values)\n",
    "\n",
    "        # Calculate the RMSE by taking the square root of the MSE\n",
    "        rmse = np.sqrt(mse)\n",
    "\n",
    "        # Store the RMSE value in the dictionary\n",
    "        rmse_results[col] = rmse\n",
    "        \n",
    "# Convert the dictionary to a DataFrame for easier visualization\n",
    "rmse_df = pd.DataFrame.from_dict(rmse_results, orient='index', columns=['RMSE'])\n",
    "rmse_df.sort_values(by='RMSE')"
   ]
  },
  {
   "cell_type": "code",
   "execution_count": null,
   "metadata": {},
   "outputs": [],
   "source": []
  },
  {
   "cell_type": "code",
   "execution_count": 257,
   "metadata": {
    "scrolled": false
   },
   "outputs": [
    {
     "data": {
      "image/png": "[encoded data removed]",
      "text/plain": [
       "<Figure size 1200x700 with 1 Axes>"
      ]
     },
     "metadata": {},
     "output_type": "display_data"
    }
   ],
   "source": [
    "for col in predict_df.columns:\n",
    "    if col != 'original':\n",
    "        plt.rcParams['figure.figsize'] = [12, 7]\n",
    "        predict_df[['original', col]].tail(periods_to_predict + periods_to_predict).head(periods_to_predict).plot()\n",
    "        plt.title('Number of accidents - test set')\n",
    "        plt.xlabel('date')\n",
    "        plt.ylabel('number of accidents')\n",
    "        plt.show()"
   ]
  },
  {
   "cell_type": "code",
   "execution_count": null,
   "metadata": {},
   "outputs": [],
   "source": []
  },
  {
   "cell_type": "code",
   "execution_count": null,
   "metadata": {
    "scrolled": true
   },
   "outputs": [],
   "source": []
  },
  {
   "cell_type": "code",
   "execution_count": null,
   "metadata": {},
   "outputs": [],
   "source": []
  },
  {
   "cell_type": "code",
   "execution_count": null,
   "metadata": {},
   "outputs": [],
   "source": []
  }
 ],
 "metadata": {
  "kernelspec": {
   "display_name": "Python 3 (ipykernel)",
   "language": "python",
   "name": "python3"
  },
  "language_info": {
   "codemirror_mode": {
    "name": "ipython",
    "version": 3
   },
   "file_extension": ".py",
   "mimetype": "text/x-python",
   "name": "python",
   "nbconvert_exporter": "python",
   "pygments_lexer": "ipython3",
   "version": "3.8.16"
  }
 },
 "nbformat": 4,
 "nbformat_minor": 4
}
